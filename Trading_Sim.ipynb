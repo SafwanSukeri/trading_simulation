{
 "cells": [
  {
   "cell_type": "markdown",
   "id": "494b4d6f-ae4a-49ef-9eed-ed7dda9276e6",
   "metadata": {},
   "source": [
    "# Introduction \n",
    "\n",
    "The assignment is to provide insights on the Integrated Single Electricity Market (I-SEM) based on Day-Ahead Market (DAM). The relevant variables are provided in an Excel Spreadsheet, which consists of commodity prices, Wind Index, and few other key variables. \n",
    "\n",
    "Hence, this project aims to find the key relationship driving the price of DAM and develop a trading strategy based on the information gathered. "
   ]
  },
  {
   "cell_type": "markdown",
   "id": "762674cc-e88c-4e23-91c3-6393fd9a3b23",
   "metadata": {},
   "source": [
    "# Preparation of Dataset\n",
    "\n",
    "Based on the provided file, multiple data frames were extracted as an independent CSV file. This will help to engage some issues such as different timeframe periods and formats.\n",
    "\n",
    "Thus, in this chapter, it will focus on the Data Wrangling & Features Constructing"
   ]
  },
  {
   "cell_type": "markdown",
   "id": "44f7fe2b-d3b3-47ed-9f7e-c43b75b5bc88",
   "metadata": {},
   "source": [
    "## DAM Price\n",
    "\n",
    "The DAM Price is the targeted variable for this project. The hourly data is provided from Oct-2018 to July 2021. The data wrangling steps are as follows : \n",
    "\n",
    "1. Changing format of DateTime\n",
    "2. Dropping the Month and Year column\n",
    "3. Re-feature data as time series data by setting the index to DateTime\n",
    "4. Resample data to Daily data via group by method and day averaging.\n"
   ]
  },
  {
   "cell_type": "code",
   "execution_count": 1,
   "id": "4055bc13-bacb-4f53-a928-6bdbce59078a",
   "metadata": {},
   "outputs": [],
   "source": [
    "import numpy as np\n",
    "import pandas as pd\n",
    "import seaborn as sns\n",
    "import matplotlib.pyplot as plt"
   ]
  },
  {
   "cell_type": "code",
   "execution_count": 2,
   "id": "059a1efc-8c7d-4190-a811-74f3d2926e20",
   "metadata": {},
   "outputs": [],
   "source": [
    "import warnings\n",
    "warnings.filterwarnings(\"ignore\")"
   ]
  },
  {
   "cell_type": "code",
   "execution_count": 3,
   "id": "fce41f24-e2aa-44a4-9098-2b00f17bcc23",
   "metadata": {},
   "outputs": [],
   "source": [
    "# rawdata1 consist of DAM Price in hourly\n",
    "damdata = pd.read_csv(\"rawdata1.csv\")"
   ]
  },
  {
   "cell_type": "code",
   "execution_count": 4,
   "id": "439572d8-f53e-4a1c-8153-992fe9d3444e",
   "metadata": {},
   "outputs": [],
   "source": [
    "# Changing datetime format to datetime\n",
    "damdata['Datetime'] = pd.to_datetime(damdata['Datetime'] ,format=\"%d/%m/%Y %H:%M\" )"
   ]
  },
  {
   "cell_type": "code",
   "execution_count": 5,
   "id": "aa86dff3-9922-436a-be6f-60ce66c9b6aa",
   "metadata": {},
   "outputs": [],
   "source": [
    "#dropping the other irrelevant column\n",
    "damdata = damdata.drop(['Month' , 'Year'], axis=1)"
   ]
  },
  {
   "cell_type": "code",
   "execution_count": 6,
   "id": "f3d1ff87-41fa-4d7e-8b21-22a2b27a721e",
   "metadata": {},
   "outputs": [],
   "source": [
    "# setting datetime as index, timeseries data\n",
    "damdata.set_index('Datetime', inplace=True)"
   ]
  },
  {
   "cell_type": "code",
   "execution_count": 7,
   "id": "c088562d-7f5d-435e-8285-112493c532a9",
   "metadata": {},
   "outputs": [],
   "source": [
    "# groupby day and resample using Mean of value\n",
    "damdata = damdata.resample('D').mean()"
   ]
  },
  {
   "cell_type": "markdown",
   "id": "942e8f46-f551-4a46-9479-e09f5d2266d2",
   "metadata": {},
   "source": [
    "The sample of the data is shown below"
   ]
  },
  {
   "cell_type": "code",
   "execution_count": 8,
   "id": "ebd6286b-fa10-4587-95f6-fa62f8bbe714",
   "metadata": {},
   "outputs": [
    {
     "data": {
      "text/html": [
       "<div>\n",
       "<style scoped>\n",
       "    .dataframe tbody tr th:only-of-type {\n",
       "        vertical-align: middle;\n",
       "    }\n",
       "\n",
       "    .dataframe tbody tr th {\n",
       "        vertical-align: top;\n",
       "    }\n",
       "\n",
       "    .dataframe thead th {\n",
       "        text-align: right;\n",
       "    }\n",
       "</style>\n",
       "<table border=\"1\" class=\"dataframe\">\n",
       "  <thead>\n",
       "    <tr style=\"text-align: right;\">\n",
       "      <th></th>\n",
       "      <th>DAM Price (€/MWh)</th>\n",
       "    </tr>\n",
       "    <tr>\n",
       "      <th>Datetime</th>\n",
       "      <th></th>\n",
       "    </tr>\n",
       "  </thead>\n",
       "  <tbody>\n",
       "    <tr>\n",
       "      <th>2018-10-01</th>\n",
       "      <td>81.856250</td>\n",
       "    </tr>\n",
       "    <tr>\n",
       "      <th>2018-10-02</th>\n",
       "      <td>70.063333</td>\n",
       "    </tr>\n",
       "    <tr>\n",
       "      <th>2018-10-03</th>\n",
       "      <td>78.890417</td>\n",
       "    </tr>\n",
       "  </tbody>\n",
       "</table>\n",
       "</div>"
      ],
      "text/plain": [
       "            DAM Price (€/MWh)\n",
       "Datetime                     \n",
       "2018-10-01          81.856250\n",
       "2018-10-02          70.063333\n",
       "2018-10-03          78.890417"
      ]
     },
     "execution_count": 8,
     "metadata": {},
     "output_type": "execute_result"
    }
   ],
   "source": [
    "# sample of DAM Data\n",
    "damdata.head(3)"
   ]
  },
  {
   "cell_type": "markdown",
   "id": "12ac1ffc-8a30-40a4-aea4-2b31b3307e31",
   "metadata": {},
   "source": [
    "## Commodity Price Dataset\n",
    "\n",
    "The Commodity Price consist of Gas Price, Carbon Price, Coal Price, Oil Price, Distillate Price and Exchange Rate. The daily data is provided from Oct-2018 to July 2021. The data wrangling steps are as follows : \n",
    "\n",
    "1. Changing format of Date\n",
    "2. Rename the column to DateTime\n",
    "3. Re-feature data as time series data by setting the index to DateTime\n",
    "4. Resample data to Daily"
   ]
  },
  {
   "cell_type": "code",
   "execution_count": 9,
   "id": "9e9aa6f0-c7cd-43a6-b55d-c5962a644706",
   "metadata": {},
   "outputs": [],
   "source": [
    "comdata = pd.read_csv(\"rawdata2.csv\" )"
   ]
  },
  {
   "cell_type": "code",
   "execution_count": 10,
   "id": "716cbffa-e9c3-4db3-9dfd-8330dc19c386",
   "metadata": {},
   "outputs": [],
   "source": [
    "comdata['Date'] = pd.to_datetime(comdata['Date'] , format=\"%d/%m/%Y\")"
   ]
  },
  {
   "cell_type": "code",
   "execution_count": 11,
   "id": "ff7ad176-6f75-4ae2-abe6-1ab475afb1fc",
   "metadata": {},
   "outputs": [],
   "source": [
    "comdata = comdata.rename(columns={'Date': 'Datetime'})"
   ]
  },
  {
   "cell_type": "code",
   "execution_count": 12,
   "id": "8f91f425-669c-4d42-aa29-47e2fe6308fb",
   "metadata": {},
   "outputs": [],
   "source": [
    "comdata.set_index('Datetime', inplace=True)"
   ]
  },
  {
   "cell_type": "code",
   "execution_count": 13,
   "id": "b06c3728-3454-41a4-b5a8-c31331289403",
   "metadata": {},
   "outputs": [],
   "source": [
    "comdata = comdata.asfreq(\"D\")"
   ]
  },
  {
   "cell_type": "markdown",
   "id": "7bf7fd54-6053-4e6e-b0c3-ab03a1c9c036",
   "metadata": {},
   "source": [
    "The sample of the data is shown below (4 columns showed, total 5)"
   ]
  },
  {
   "cell_type": "code",
   "execution_count": 14,
   "id": "bdc8aa29-b084-4095-84f7-bbe29110cdf4",
   "metadata": {},
   "outputs": [
    {
     "data": {
      "text/html": [
       "<div>\n",
       "<style scoped>\n",
       "    .dataframe tbody tr th:only-of-type {\n",
       "        vertical-align: middle;\n",
       "    }\n",
       "\n",
       "    .dataframe tbody tr th {\n",
       "        vertical-align: top;\n",
       "    }\n",
       "\n",
       "    .dataframe thead th {\n",
       "        text-align: right;\n",
       "    }\n",
       "</style>\n",
       "<table border=\"1\" class=\"dataframe\">\n",
       "  <thead>\n",
       "    <tr style=\"text-align: right;\">\n",
       "      <th></th>\n",
       "      <th>Gas Price</th>\n",
       "      <th>Carbon Price</th>\n",
       "      <th>Coal Price</th>\n",
       "      <th>Oil Price</th>\n",
       "    </tr>\n",
       "    <tr>\n",
       "      <th>Datetime</th>\n",
       "      <th></th>\n",
       "      <th></th>\n",
       "      <th></th>\n",
       "      <th></th>\n",
       "    </tr>\n",
       "  </thead>\n",
       "  <tbody>\n",
       "    <tr>\n",
       "      <th>2018-10-01</th>\n",
       "      <td>71.85</td>\n",
       "      <td>21.37</td>\n",
       "      <td>101.80</td>\n",
       "      <td>475.888</td>\n",
       "    </tr>\n",
       "    <tr>\n",
       "      <th>2018-10-02</th>\n",
       "      <td>71.90</td>\n",
       "      <td>20.98</td>\n",
       "      <td>101.20</td>\n",
       "      <td>474.880</td>\n",
       "    </tr>\n",
       "    <tr>\n",
       "      <th>2018-10-03</th>\n",
       "      <td>70.55</td>\n",
       "      <td>21.18</td>\n",
       "      <td>101.65</td>\n",
       "      <td>483.224</td>\n",
       "    </tr>\n",
       "  </tbody>\n",
       "</table>\n",
       "</div>"
      ],
      "text/plain": [
       "            Gas Price  Carbon Price  Coal Price  Oil Price\n",
       "Datetime                                                  \n",
       "2018-10-01      71.85         21.37      101.80    475.888\n",
       "2018-10-02      71.90         20.98      101.20    474.880\n",
       "2018-10-03      70.55         21.18      101.65    483.224"
      ]
     },
     "execution_count": 14,
     "metadata": {},
     "output_type": "execute_result"
    }
   ],
   "source": [
    "comdata.iloc[:3,:4]"
   ]
  },
  {
   "cell_type": "markdown",
   "id": "29cb5ab9-b8c4-4950-ae15-040a305fbf7f",
   "metadata": {},
   "source": [
    "## Generator Price Dataset\n",
    "\n",
    "The Generator Price Dataset consist of 18 generators price. The daily data is provided from Oct-2018 to July 2021. The data wrangling steps are as follows : \n",
    "\n",
    "1. Dropping null values\n",
    "2. Changing data type to float\n",
    "3. Changing Date format of DateTime\n",
    "4. Pivot Values base on Generator Code\n",
    "5. Re-feature data as time series data by setting the index to DateTime\n",
    "6. Resample data to Daily\n",
    "7. Re allign DateTime to same date range"
   ]
  },
  {
   "cell_type": "code",
   "execution_count": 15,
   "id": "b320bc13-05e2-4d1e-b994-3a9b09b4008f",
   "metadata": {},
   "outputs": [],
   "source": [
    "costdata = pd.read_csv(\"rawdata3.csv\")"
   ]
  },
  {
   "cell_type": "code",
   "execution_count": 16,
   "id": "9b0315b8-b63f-4bbf-b9c5-6d06acf4ae9c",
   "metadata": {},
   "outputs": [],
   "source": [
    "# Return data for non null values\n",
    "costdata = costdata[costdata['Average Cost'] != \"#DIV/0!\"]"
   ]
  },
  {
   "cell_type": "code",
   "execution_count": 17,
   "id": "d91ea80b-ab97-4749-b88d-ab447914f366",
   "metadata": {},
   "outputs": [],
   "source": [
    "costdata['Average Cost'] = costdata['Average Cost'].astype(\"float64\")"
   ]
  },
  {
   "cell_type": "code",
   "execution_count": 18,
   "id": "1da6028b-b7b5-45d9-a403-ad908bb01aee",
   "metadata": {},
   "outputs": [],
   "source": [
    "costdata['Date'] = pd.to_datetime(costdata['Date'] , format=\"%d/%m/%Y\")"
   ]
  },
  {
   "cell_type": "code",
   "execution_count": 19,
   "id": "2dfbf458-dc99-4459-af08-d81d0a110bee",
   "metadata": {},
   "outputs": [],
   "source": [
    "costdata = costdata.pivot(index=\"Date\", columns=\"Code\", values=\"Average Cost\")"
   ]
  },
  {
   "cell_type": "code",
   "execution_count": 20,
   "id": "63a6e93f-de27-4235-af0b-778945fbe6a0",
   "metadata": {},
   "outputs": [],
   "source": [
    "costdata = costdata.resample('D').mean()"
   ]
  },
  {
   "cell_type": "code",
   "execution_count": 21,
   "id": "0887d40b-9317-4f71-bad9-115c5d921a65",
   "metadata": {},
   "outputs": [],
   "source": [
    "costdata = costdata.loc['2018-10-01' : '2021-6-30']"
   ]
  },
  {
   "cell_type": "markdown",
   "id": "f9fdf53a-5a08-4810-8eed-e7c1b92d8095",
   "metadata": {},
   "source": [
    "The sample of the data is shown below (total columns : 18, shown 5)"
   ]
  },
  {
   "cell_type": "code",
   "execution_count": 22,
   "id": "f5d62d0e-b6bb-41b9-9734-0c6f2b8adaf8",
   "metadata": {},
   "outputs": [
    {
     "data": {
      "text/html": [
       "<div>\n",
       "<style scoped>\n",
       "    .dataframe tbody tr th:only-of-type {\n",
       "        vertical-align: middle;\n",
       "    }\n",
       "\n",
       "    .dataframe tbody tr th {\n",
       "        vertical-align: top;\n",
       "    }\n",
       "\n",
       "    .dataframe thead th {\n",
       "        text-align: right;\n",
       "    }\n",
       "</style>\n",
       "<table border=\"1\" class=\"dataframe\">\n",
       "  <thead>\n",
       "    <tr style=\"text-align: right;\">\n",
       "      <th>Code</th>\n",
       "      <th>GU_400270</th>\n",
       "      <th>GU_400271</th>\n",
       "      <th>GU_400272</th>\n",
       "      <th>GU_400324</th>\n",
       "      <th>GU_400325</th>\n",
       "    </tr>\n",
       "    <tr>\n",
       "      <th>Date</th>\n",
       "      <th></th>\n",
       "      <th></th>\n",
       "      <th></th>\n",
       "      <th></th>\n",
       "      <th></th>\n",
       "    </tr>\n",
       "  </thead>\n",
       "  <tbody>\n",
       "    <tr>\n",
       "      <th>2018-10-01</th>\n",
       "      <td>53.25</td>\n",
       "      <td>53.25</td>\n",
       "      <td>53.25</td>\n",
       "      <td>58.58</td>\n",
       "      <td>58.58</td>\n",
       "    </tr>\n",
       "    <tr>\n",
       "      <th>2018-10-02</th>\n",
       "      <td>53.54</td>\n",
       "      <td>53.54</td>\n",
       "      <td>53.54</td>\n",
       "      <td>58.14</td>\n",
       "      <td>58.14</td>\n",
       "    </tr>\n",
       "    <tr>\n",
       "      <th>2018-10-03</th>\n",
       "      <td>54.19</td>\n",
       "      <td>54.19</td>\n",
       "      <td>54.19</td>\n",
       "      <td>58.92</td>\n",
       "      <td>58.92</td>\n",
       "    </tr>\n",
       "  </tbody>\n",
       "</table>\n",
       "</div>"
      ],
      "text/plain": [
       "Code        GU_400270  GU_400271  GU_400272  GU_400324  GU_400325\n",
       "Date                                                             \n",
       "2018-10-01      53.25      53.25      53.25      58.58      58.58\n",
       "2018-10-02      53.54      53.54      53.54      58.14      58.14\n",
       "2018-10-03      54.19      54.19      54.19      58.92      58.92"
      ]
     },
     "execution_count": 22,
     "metadata": {},
     "output_type": "execute_result"
    }
   ],
   "source": [
    "costdata.iloc[:3,:5]"
   ]
  },
  {
   "cell_type": "markdown",
   "id": "7a619262-7adb-49d2-a3ea-8a052e1d3aa8",
   "metadata": {},
   "source": [
    "## Generator Availability Dataset\n",
    "\n",
    "The Generator Price Dataset consist of 18 generators availability. The daily data is provided from Oct-2018 to July 2021. The data wrangling steps are as follows : \n",
    "\n",
    "1. Re-feature the Data column and changing to DateTime Format.\n",
    "2. Dropping time column\n",
    "3. Setting the index to DateTime\n",
    "6. Resample data to Daily via Sum"
   ]
  },
  {
   "cell_type": "code",
   "execution_count": 23,
   "id": "7b9e02ca-4d94-4022-8a97-33b55a1c7f06",
   "metadata": {},
   "outputs": [],
   "source": [
    "availdata = pd.read_csv(\"rawdata4.csv\")"
   ]
  },
  {
   "cell_type": "code",
   "execution_count": 24,
   "id": "75cbeae6-0378-43e8-b62f-200c68a20db9",
   "metadata": {},
   "outputs": [],
   "source": [
    "availdata.loc[:,'Date'] = availdata.Date.astype(str)+' '+availdata.time.astype(str)"
   ]
  },
  {
   "cell_type": "code",
   "execution_count": 25,
   "id": "ac634f54-a8a8-4c95-8a23-04f44858fa0e",
   "metadata": {},
   "outputs": [],
   "source": [
    "availdata['Date'] = pd.to_datetime(availdata['Date'] , format=\"%d/%m/%Y %H:%M:%S\")"
   ]
  },
  {
   "cell_type": "code",
   "execution_count": 26,
   "id": "ccd8553b-3dfe-4939-bfa1-d306dcedbbe8",
   "metadata": {},
   "outputs": [],
   "source": [
    "availdata = availdata.drop(['time'], axis=1)"
   ]
  },
  {
   "cell_type": "code",
   "execution_count": 27,
   "id": "31f0ae6c-86ca-40d1-85d6-92b1b61a3f44",
   "metadata": {},
   "outputs": [],
   "source": [
    "availdata = availdata.rename(columns={'Date': 'Datetime'})"
   ]
  },
  {
   "cell_type": "code",
   "execution_count": 28,
   "id": "2d975c80-0dad-4042-8cb8-324ef98532f6",
   "metadata": {},
   "outputs": [],
   "source": [
    "availdata.set_index('Datetime', inplace=True)"
   ]
  },
  {
   "cell_type": "code",
   "execution_count": 29,
   "id": "04906af6-1319-4978-a8c3-7a935c837b1f",
   "metadata": {},
   "outputs": [],
   "source": [
    "availdata = availdata.resample('D').sum()"
   ]
  },
  {
   "cell_type": "markdown",
   "id": "12ebe7de-40e4-4817-ae6d-a870ff655c17",
   "metadata": {},
   "source": [
    "The sample of the data is shown below (total columns : 18, shown 5)"
   ]
  },
  {
   "cell_type": "code",
   "execution_count": 30,
   "id": "fc4b4a29-9306-4694-8a18-608be7ec6323",
   "metadata": {},
   "outputs": [
    {
     "data": {
      "text/html": [
       "<div>\n",
       "<style scoped>\n",
       "    .dataframe tbody tr th:only-of-type {\n",
       "        vertical-align: middle;\n",
       "    }\n",
       "\n",
       "    .dataframe tbody tr th {\n",
       "        vertical-align: top;\n",
       "    }\n",
       "\n",
       "    .dataframe thead th {\n",
       "        text-align: right;\n",
       "    }\n",
       "</style>\n",
       "<table border=\"1\" class=\"dataframe\">\n",
       "  <thead>\n",
       "    <tr style=\"text-align: right;\">\n",
       "      <th></th>\n",
       "      <th>GU_400270</th>\n",
       "      <th>GU_400271</th>\n",
       "      <th>GU_400272</th>\n",
       "      <th>GU_400324</th>\n",
       "      <th>GU_400325</th>\n",
       "    </tr>\n",
       "    <tr>\n",
       "      <th>Datetime</th>\n",
       "      <th></th>\n",
       "      <th></th>\n",
       "      <th></th>\n",
       "      <th></th>\n",
       "      <th></th>\n",
       "    </tr>\n",
       "  </thead>\n",
       "  <tbody>\n",
       "    <tr>\n",
       "      <th>2018-10-01</th>\n",
       "      <td>0.0</td>\n",
       "      <td>0.0</td>\n",
       "      <td>0.0</td>\n",
       "      <td>11856.0</td>\n",
       "      <td>11760.0</td>\n",
       "    </tr>\n",
       "    <tr>\n",
       "      <th>2018-10-02</th>\n",
       "      <td>0.0</td>\n",
       "      <td>0.0</td>\n",
       "      <td>0.0</td>\n",
       "      <td>11856.0</td>\n",
       "      <td>11760.0</td>\n",
       "    </tr>\n",
       "    <tr>\n",
       "      <th>2018-10-03</th>\n",
       "      <td>0.0</td>\n",
       "      <td>0.0</td>\n",
       "      <td>0.0</td>\n",
       "      <td>11856.0</td>\n",
       "      <td>11760.0</td>\n",
       "    </tr>\n",
       "  </tbody>\n",
       "</table>\n",
       "</div>"
      ],
      "text/plain": [
       "            GU_400270  GU_400271  GU_400272  GU_400324  GU_400325\n",
       "Datetime                                                         \n",
       "2018-10-01        0.0        0.0        0.0    11856.0    11760.0\n",
       "2018-10-02        0.0        0.0        0.0    11856.0    11760.0\n",
       "2018-10-03        0.0        0.0        0.0    11856.0    11760.0"
      ]
     },
     "execution_count": 30,
     "metadata": {},
     "output_type": "execute_result"
    }
   ],
   "source": [
    "availdata.iloc[:3,:5]"
   ]
  },
  {
   "cell_type": "markdown",
   "id": "0190674a-d7cb-424e-87c8-c3ddcdd12c63",
   "metadata": {},
   "source": [
    "## Wind Output and Demand Output Dataset\n",
    "\n",
    "The Commodity Price consist of the Wind Forecast, Demand Forecast, Wind Output and Net Demand Output. The daily data is provided from Oct-2018 to July 2021. The data wrangling steps are as follows : \n",
    "\n",
    "1. Changing format of Date\n",
    "2. Re-feature data as time series data by setting the index to DateTime\n",
    "3. Resample data to Daily"
   ]
  },
  {
   "cell_type": "code",
   "execution_count": 31,
   "id": "c4ca4fac-a89a-484d-8228-3722a3f25ad2",
   "metadata": {},
   "outputs": [],
   "source": [
    "windata = pd.read_csv(\"rawdata5.csv\")"
   ]
  },
  {
   "cell_type": "code",
   "execution_count": 32,
   "id": "56ad4350-f890-453d-9646-2653c189db0e",
   "metadata": {},
   "outputs": [],
   "source": [
    "windata['Datetime'] = pd.to_datetime(windata['Datetime'] , format=\"%d/%m/%Y %H:%M\")"
   ]
  },
  {
   "cell_type": "code",
   "execution_count": 33,
   "id": "a05a7fee-4057-4196-b4f3-bfc95549d0e0",
   "metadata": {},
   "outputs": [],
   "source": [
    "windata.set_index('Datetime', inplace=True)"
   ]
  },
  {
   "cell_type": "code",
   "execution_count": 34,
   "id": "0fe72632-7a8a-4ceb-b56b-f3d62570609a",
   "metadata": {},
   "outputs": [],
   "source": [
    "windata = windata.resample('D').mean()"
   ]
  },
  {
   "cell_type": "markdown",
   "id": "e1d1a8e1-5693-402c-8dcf-c329878f8339",
   "metadata": {},
   "source": [
    "The sample of the data is shown below (total columns : 9, shown 5)"
   ]
  },
  {
   "cell_type": "code",
   "execution_count": 35,
   "id": "85882909-c16b-4937-846e-2927efd8257e",
   "metadata": {},
   "outputs": [
    {
     "data": {
      "text/html": [
       "<div>\n",
       "<style scoped>\n",
       "    .dataframe tbody tr th:only-of-type {\n",
       "        vertical-align: middle;\n",
       "    }\n",
       "\n",
       "    .dataframe tbody tr th {\n",
       "        vertical-align: top;\n",
       "    }\n",
       "\n",
       "    .dataframe thead th {\n",
       "        text-align: right;\n",
       "    }\n",
       "</style>\n",
       "<table border=\"1\" class=\"dataframe\">\n",
       "  <thead>\n",
       "    <tr style=\"text-align: right;\">\n",
       "      <th></th>\n",
       "      <th>DAWF</th>\n",
       "      <th>CWF</th>\n",
       "      <th>AWO</th>\n",
       "      <th>DADF</th>\n",
       "      <th>CDF</th>\n",
       "    </tr>\n",
       "    <tr>\n",
       "      <th>Datetime</th>\n",
       "      <th></th>\n",
       "      <th></th>\n",
       "      <th></th>\n",
       "      <th></th>\n",
       "      <th></th>\n",
       "    </tr>\n",
       "  </thead>\n",
       "  <tbody>\n",
       "    <tr>\n",
       "      <th>2018-10-01</th>\n",
       "      <td>1010.041667</td>\n",
       "      <td>1254.416667</td>\n",
       "      <td>1276.770833</td>\n",
       "      <td>4133.000000</td>\n",
       "      <td>4136.750000</td>\n",
       "    </tr>\n",
       "    <tr>\n",
       "      <th>2018-10-02</th>\n",
       "      <td>1634.208333</td>\n",
       "      <td>1628.833333</td>\n",
       "      <td>1674.083333</td>\n",
       "      <td>4255.208333</td>\n",
       "      <td>4271.166667</td>\n",
       "    </tr>\n",
       "    <tr>\n",
       "      <th>2018-10-03</th>\n",
       "      <td>1161.083333</td>\n",
       "      <td>1103.000000</td>\n",
       "      <td>1056.937500</td>\n",
       "      <td>4308.750000</td>\n",
       "      <td>4285.416667</td>\n",
       "    </tr>\n",
       "  </tbody>\n",
       "</table>\n",
       "</div>"
      ],
      "text/plain": [
       "                   DAWF          CWF          AWO         DADF          CDF\n",
       "Datetime                                                                   \n",
       "2018-10-01  1010.041667  1254.416667  1276.770833  4133.000000  4136.750000\n",
       "2018-10-02  1634.208333  1628.833333  1674.083333  4255.208333  4271.166667\n",
       "2018-10-03  1161.083333  1103.000000  1056.937500  4308.750000  4285.416667"
      ]
     },
     "execution_count": 35,
     "metadata": {},
     "output_type": "execute_result"
    }
   ],
   "source": [
    "windata.iloc[:3,:5]"
   ]
  },
  {
   "cell_type": "markdown",
   "id": "1f94eff7-4afc-4841-b11e-02dbd7a66670",
   "metadata": {},
   "source": [
    "## Feature Constructing\n",
    "\n",
    "Generator price and availability tend to have 18 variables each. If all the datasets are to be merged, the total number of independent variables will be more than 40. \n",
    "Hence, to resolve this issue, the price and availability data for the generator are merged, creating one dataset. Applying Principal Component Analysis will reduce the dimension of the dataset accordingly depending on the variance value tagged with the number of indexes.  \n"
   ]
  },
  {
   "cell_type": "code",
   "execution_count": 36,
   "id": "24b5eb2b-5c19-4118-9679-1aa326bb359d",
   "metadata": {},
   "outputs": [],
   "source": [
    "# new features for generator availability and cost of generator\n",
    "gendata = availdata * costdata"
   ]
  },
  {
   "cell_type": "code",
   "execution_count": 37,
   "id": "a34fb046-c522-4da0-a9d2-8b6e527c33e8",
   "metadata": {},
   "outputs": [],
   "source": [
    "#Replacing NA with 0 value\n",
    "gendata = gendata.fillna(0)"
   ]
  },
  {
   "cell_type": "markdown",
   "id": "13be7de2-b69a-41c7-9d85-8423cc3ef9f4",
   "metadata": {},
   "source": [
    "Result for PCA when n component = 5"
   ]
  },
  {
   "cell_type": "code",
   "execution_count": 38,
   "id": "71238ece-d90c-405c-b1d3-bf722f11eaea",
   "metadata": {},
   "outputs": [
    {
     "name": "stdout",
     "output_type": "stream",
     "text": [
      "variance for 5 indexes is equal to : 83.67 %\n"
     ]
    }
   ],
   "source": [
    "#we will reduce the dimension of gendata by using PCA \n",
    "from sklearn.decomposition import PCA\n",
    "pca = PCA(n_components=5)\n",
    "pca.fit(gendata)\n",
    "print(\"variance for 5 indexes is equal to :\", round(pca.explained_variance_ratio_.sum()*100,2), \"%\")"
   ]
  },
  {
   "cell_type": "markdown",
   "id": "809b523d-f29d-4aab-8643-dc4f7a643db2",
   "metadata": {},
   "source": [
    "Creating new dataframe for the PCA Indexes which represents the Generator Availability and Price\n",
    "Repeat the data wrangling process :\n",
    "\n",
    "1. Reseting index and restructure as Time Series Data\n",
    "2. Normalise the data using Standard Scaler function\n",
    "\n",
    "the glimpse of the new feature dataset is as follows (3 columns showed, total 5):"
   ]
  },
  {
   "cell_type": "code",
   "execution_count": 39,
   "id": "50943fc7-f811-47e5-8c95-b7b61a550ec4",
   "metadata": {},
   "outputs": [],
   "source": [
    "principalComponents = pca.fit_transform(gendata)\n",
    "pcadf = pd.DataFrame(data = principalComponents, columns = ['Generator Index 1', 'Generator Index 2', 'Generator Index 3', 'Generator Index 4', 'Generator Index 5'])"
   ]
  },
  {
   "cell_type": "code",
   "execution_count": 40,
   "id": "3c489cf8-182e-47b6-8d49-671423f11da9",
   "metadata": {},
   "outputs": [],
   "source": [
    "availdata1 = availdata\n",
    "availdata1 = availdata1.reset_index()\n",
    "availdata1 = availdata1.join(pcadf)\n",
    "availdata1.set_index('Datetime', inplace=True)\n",
    "availdata1 = availdata1.iloc[:,-5:]"
   ]
  },
  {
   "cell_type": "code",
   "execution_count": 41,
   "id": "5e8d4a38-4ef7-487d-ae64-ad46db55d884",
   "metadata": {},
   "outputs": [],
   "source": [
    "#Scale and normalise data\n",
    "from sklearn import preprocessing\n",
    "\n",
    "standard_scaler = preprocessing.StandardScaler()\n",
    "df_scaled = standard_scaler.fit_transform(availdata1)\n",
    "df_gen = pd.DataFrame(df_scaled, index=availdata1.index, columns=availdata1.columns)"
   ]
  },
  {
   "cell_type": "code",
   "execution_count": 42,
   "id": "bf51d3cb-6fe3-4d29-8a07-00d5182303a5",
   "metadata": {},
   "outputs": [
    {
     "data": {
      "text/html": [
       "<div>\n",
       "<style scoped>\n",
       "    .dataframe tbody tr th:only-of-type {\n",
       "        vertical-align: middle;\n",
       "    }\n",
       "\n",
       "    .dataframe tbody tr th {\n",
       "        vertical-align: top;\n",
       "    }\n",
       "\n",
       "    .dataframe thead th {\n",
       "        text-align: right;\n",
       "    }\n",
       "</style>\n",
       "<table border=\"1\" class=\"dataframe\">\n",
       "  <thead>\n",
       "    <tr style=\"text-align: right;\">\n",
       "      <th></th>\n",
       "      <th>Generator Index 1</th>\n",
       "      <th>Generator Index 2</th>\n",
       "      <th>Generator Index 3</th>\n",
       "    </tr>\n",
       "    <tr>\n",
       "      <th>Datetime</th>\n",
       "      <th></th>\n",
       "      <th></th>\n",
       "      <th></th>\n",
       "    </tr>\n",
       "  </thead>\n",
       "  <tbody>\n",
       "    <tr>\n",
       "      <th>2018-10-01</th>\n",
       "      <td>0.689661</td>\n",
       "      <td>-1.466066</td>\n",
       "      <td>-2.993087</td>\n",
       "    </tr>\n",
       "    <tr>\n",
       "      <th>2018-10-02</th>\n",
       "      <td>0.496077</td>\n",
       "      <td>-1.291089</td>\n",
       "      <td>-2.772752</td>\n",
       "    </tr>\n",
       "    <tr>\n",
       "      <th>2018-10-03</th>\n",
       "      <td>0.776933</td>\n",
       "      <td>-1.532559</td>\n",
       "      <td>-3.104813</td>\n",
       "    </tr>\n",
       "  </tbody>\n",
       "</table>\n",
       "</div>"
      ],
      "text/plain": [
       "            Generator Index 1  Generator Index 2  Generator Index 3\n",
       "Datetime                                                           \n",
       "2018-10-01           0.689661          -1.466066          -2.993087\n",
       "2018-10-02           0.496077          -1.291089          -2.772752\n",
       "2018-10-03           0.776933          -1.532559          -3.104813"
      ]
     },
     "execution_count": 42,
     "metadata": {},
     "output_type": "execute_result"
    }
   ],
   "source": [
    "df_gen.iloc[:3,:3]"
   ]
  },
  {
   "cell_type": "markdown",
   "id": "6a33153d-8b37-43f5-99a6-83844f1e2431",
   "metadata": {},
   "source": [
    "##  Merging all datasets as one Main Dataframe \n",
    "\n",
    "On the last step of this chapter, all the datasets that has been featured will be merged as one main Dataframe. \n",
    "The dataset will be scaled and standardize accordingly. The Sample Dataset can be viewed by running code in line 126.\n"
   ]
  },
  {
   "cell_type": "code",
   "execution_count": 46,
   "id": "993a9187-9d3c-42f7-a6fc-ceea0718d27b",
   "metadata": {},
   "outputs": [],
   "source": [
    "df = damdata.join(comdata).join(windata[['CWF','AWO','CDF','ANDO']])"
   ]
  },
  {
   "cell_type": "code",
   "execution_count": 47,
   "id": "04a6bf3c-a743-455e-86fc-c8c3a5756558",
   "metadata": {},
   "outputs": [
    {
     "data": {
      "text/html": [
       "<div>\n",
       "<style scoped>\n",
       "    .dataframe tbody tr th:only-of-type {\n",
       "        vertical-align: middle;\n",
       "    }\n",
       "\n",
       "    .dataframe tbody tr th {\n",
       "        vertical-align: top;\n",
       "    }\n",
       "\n",
       "    .dataframe thead th {\n",
       "        text-align: right;\n",
       "    }\n",
       "</style>\n",
       "<table border=\"1\" class=\"dataframe\">\n",
       "  <thead>\n",
       "    <tr style=\"text-align: right;\">\n",
       "      <th></th>\n",
       "      <th>DAM Price (€/MWh)</th>\n",
       "      <th>Gas Price</th>\n",
       "      <th>Carbon Price</th>\n",
       "      <th>Coal Price</th>\n",
       "      <th>Oil Price</th>\n",
       "      <th>Distillate Price</th>\n",
       "      <th>Exchange Rate (£:€)</th>\n",
       "      <th>CWF</th>\n",
       "      <th>AWO</th>\n",
       "      <th>CDF</th>\n",
       "      <th>ANDO</th>\n",
       "    </tr>\n",
       "    <tr>\n",
       "      <th>Datetime</th>\n",
       "      <th></th>\n",
       "      <th></th>\n",
       "      <th></th>\n",
       "      <th></th>\n",
       "      <th></th>\n",
       "      <th></th>\n",
       "      <th></th>\n",
       "      <th></th>\n",
       "      <th></th>\n",
       "      <th></th>\n",
       "      <th></th>\n",
       "    </tr>\n",
       "  </thead>\n",
       "  <tbody>\n",
       "    <tr>\n",
       "      <th>2018-10-01</th>\n",
       "      <td>81.856250</td>\n",
       "      <td>71.850</td>\n",
       "      <td>21.37</td>\n",
       "      <td>101.80</td>\n",
       "      <td>475.888</td>\n",
       "      <td>734.50</td>\n",
       "      <td>1.1226</td>\n",
       "      <td>1254.416667</td>\n",
       "      <td>1276.770833</td>\n",
       "      <td>4136.750000</td>\n",
       "      <td>2928.979167</td>\n",
       "    </tr>\n",
       "    <tr>\n",
       "      <th>2018-10-02</th>\n",
       "      <td>70.063333</td>\n",
       "      <td>71.900</td>\n",
       "      <td>20.98</td>\n",
       "      <td>101.20</td>\n",
       "      <td>474.880</td>\n",
       "      <td>742.00</td>\n",
       "      <td>1.1231</td>\n",
       "      <td>1628.833333</td>\n",
       "      <td>1674.083333</td>\n",
       "      <td>4271.166667</td>\n",
       "      <td>2581.687500</td>\n",
       "    </tr>\n",
       "    <tr>\n",
       "      <th>2018-10-03</th>\n",
       "      <td>78.890417</td>\n",
       "      <td>70.550</td>\n",
       "      <td>21.18</td>\n",
       "      <td>101.65</td>\n",
       "      <td>483.224</td>\n",
       "      <td>742.25</td>\n",
       "      <td>1.1249</td>\n",
       "      <td>1103.000000</td>\n",
       "      <td>1056.937500</td>\n",
       "      <td>4285.416667</td>\n",
       "      <td>3255.812500</td>\n",
       "    </tr>\n",
       "    <tr>\n",
       "      <th>2018-10-04</th>\n",
       "      <td>76.738333</td>\n",
       "      <td>70.475</td>\n",
       "      <td>21.34</td>\n",
       "      <td>100.80</td>\n",
       "      <td>473.648</td>\n",
       "      <td>744.75</td>\n",
       "      <td>1.1289</td>\n",
       "      <td>1037.958333</td>\n",
       "      <td>1034.083333</td>\n",
       "      <td>4276.500000</td>\n",
       "      <td>3276.979167</td>\n",
       "    </tr>\n",
       "    <tr>\n",
       "      <th>2018-10-05</th>\n",
       "      <td>78.312917</td>\n",
       "      <td>71.100</td>\n",
       "      <td>22.16</td>\n",
       "      <td>101.35</td>\n",
       "      <td>471.296</td>\n",
       "      <td>741.75</td>\n",
       "      <td>1.1342</td>\n",
       "      <td>414.625000</td>\n",
       "      <td>426.833333</td>\n",
       "      <td>4245.166667</td>\n",
       "      <td>3826.312500</td>\n",
       "    </tr>\n",
       "    <tr>\n",
       "      <th>...</th>\n",
       "      <td>...</td>\n",
       "      <td>...</td>\n",
       "      <td>...</td>\n",
       "      <td>...</td>\n",
       "      <td>...</td>\n",
       "      <td>...</td>\n",
       "      <td>...</td>\n",
       "      <td>...</td>\n",
       "      <td>...</td>\n",
       "      <td>...</td>\n",
       "      <td>...</td>\n",
       "    </tr>\n",
       "    <tr>\n",
       "      <th>2021-06-26</th>\n",
       "      <td>100.131667</td>\n",
       "      <td>82.400</td>\n",
       "      <td>54.95</td>\n",
       "      <td>108.50</td>\n",
       "      <td>422.130</td>\n",
       "      <td>573.25</td>\n",
       "      <td>1.1635</td>\n",
       "      <td>1188.020833</td>\n",
       "      <td>1108.250000</td>\n",
       "      <td>3833.250000</td>\n",
       "      <td>2727.729167</td>\n",
       "    </tr>\n",
       "    <tr>\n",
       "      <th>2021-06-27</th>\n",
       "      <td>99.453333</td>\n",
       "      <td>82.400</td>\n",
       "      <td>54.95</td>\n",
       "      <td>108.50</td>\n",
       "      <td>422.130</td>\n",
       "      <td>573.25</td>\n",
       "      <td>1.1635</td>\n",
       "      <td>887.854167</td>\n",
       "      <td>894.729167</td>\n",
       "      <td>3673.520833</td>\n",
       "      <td>2797.250000</td>\n",
       "    </tr>\n",
       "    <tr>\n",
       "      <th>2021-06-28</th>\n",
       "      <td>108.820833</td>\n",
       "      <td>82.330</td>\n",
       "      <td>55.40</td>\n",
       "      <td>113.15</td>\n",
       "      <td>415.180</td>\n",
       "      <td>567.75</td>\n",
       "      <td>1.1667</td>\n",
       "      <td>569.312500</td>\n",
       "      <td>618.500000</td>\n",
       "      <td>4152.687500</td>\n",
       "      <td>3504.937500</td>\n",
       "    </tr>\n",
       "    <tr>\n",
       "      <th>2021-06-29</th>\n",
       "      <td>111.585000</td>\n",
       "      <td>79.150</td>\n",
       "      <td>55.53</td>\n",
       "      <td>115.05</td>\n",
       "      <td>415.970</td>\n",
       "      <td>570.50</td>\n",
       "      <td>1.1635</td>\n",
       "      <td>556.416667</td>\n",
       "      <td>616.916667</td>\n",
       "      <td>4207.666667</td>\n",
       "      <td>3612.583333</td>\n",
       "    </tr>\n",
       "    <tr>\n",
       "      <th>2021-06-30</th>\n",
       "      <td>123.303750</td>\n",
       "      <td>82.860</td>\n",
       "      <td>56.25</td>\n",
       "      <td>120.75</td>\n",
       "      <td>417.870</td>\n",
       "      <td>568.00</td>\n",
       "      <td>1.1654</td>\n",
       "      <td>114.333333</td>\n",
       "      <td>127.729167</td>\n",
       "      <td>4274.583333</td>\n",
       "      <td>4160.250000</td>\n",
       "    </tr>\n",
       "  </tbody>\n",
       "</table>\n",
       "<p>1004 rows × 11 columns</p>\n",
       "</div>"
      ],
      "text/plain": [
       "            DAM Price (€/MWh)  Gas Price  Carbon Price  Coal Price  Oil Price  \\\n",
       "Datetime                                                                        \n",
       "2018-10-01          81.856250     71.850         21.37      101.80    475.888   \n",
       "2018-10-02          70.063333     71.900         20.98      101.20    474.880   \n",
       "2018-10-03          78.890417     70.550         21.18      101.65    483.224   \n",
       "2018-10-04          76.738333     70.475         21.34      100.80    473.648   \n",
       "2018-10-05          78.312917     71.100         22.16      101.35    471.296   \n",
       "...                       ...        ...           ...         ...        ...   \n",
       "2021-06-26         100.131667     82.400         54.95      108.50    422.130   \n",
       "2021-06-27          99.453333     82.400         54.95      108.50    422.130   \n",
       "2021-06-28         108.820833     82.330         55.40      113.15    415.180   \n",
       "2021-06-29         111.585000     79.150         55.53      115.05    415.970   \n",
       "2021-06-30         123.303750     82.860         56.25      120.75    417.870   \n",
       "\n",
       "            Distillate Price  Exchange Rate (£:€)          CWF          AWO  \\\n",
       "Datetime                                                                      \n",
       "2018-10-01            734.50               1.1226  1254.416667  1276.770833   \n",
       "2018-10-02            742.00               1.1231  1628.833333  1674.083333   \n",
       "2018-10-03            742.25               1.1249  1103.000000  1056.937500   \n",
       "2018-10-04            744.75               1.1289  1037.958333  1034.083333   \n",
       "2018-10-05            741.75               1.1342   414.625000   426.833333   \n",
       "...                      ...                  ...          ...          ...   \n",
       "2021-06-26            573.25               1.1635  1188.020833  1108.250000   \n",
       "2021-06-27            573.25               1.1635   887.854167   894.729167   \n",
       "2021-06-28            567.75               1.1667   569.312500   618.500000   \n",
       "2021-06-29            570.50               1.1635   556.416667   616.916667   \n",
       "2021-06-30            568.00               1.1654   114.333333   127.729167   \n",
       "\n",
       "                    CDF         ANDO  \n",
       "Datetime                              \n",
       "2018-10-01  4136.750000  2928.979167  \n",
       "2018-10-02  4271.166667  2581.687500  \n",
       "2018-10-03  4285.416667  3255.812500  \n",
       "2018-10-04  4276.500000  3276.979167  \n",
       "2018-10-05  4245.166667  3826.312500  \n",
       "...                 ...          ...  \n",
       "2021-06-26  3833.250000  2727.729167  \n",
       "2021-06-27  3673.520833  2797.250000  \n",
       "2021-06-28  4152.687500  3504.937500  \n",
       "2021-06-29  4207.666667  3612.583333  \n",
       "2021-06-30  4274.583333  4160.250000  \n",
       "\n",
       "[1004 rows x 11 columns]"
      ]
     },
     "execution_count": 47,
     "metadata": {},
     "output_type": "execute_result"
    }
   ],
   "source": [
    "df"
   ]
  },
  {
   "cell_type": "code",
   "execution_count": 48,
   "id": "1d57ea7b-57a9-4d13-b4d2-6a5b67595308",
   "metadata": {},
   "outputs": [],
   "source": [
    "from sklearn import preprocessing\n",
    "\n",
    "min_max_scaler = preprocessing.StandardScaler()\n",
    "df_scaled = min_max_scaler.fit_transform(df)\n",
    "df_scaled = pd.DataFrame(df_scaled, index=df.index, columns=df.columns)"
   ]
  },
  {
   "cell_type": "code",
   "execution_count": 49,
   "id": "0197f869-8ede-48b6-92a7-7d4e0527e9e2",
   "metadata": {},
   "outputs": [],
   "source": [
    "df_scaled = df_scaled.join(df_gen)"
   ]
  },
  {
   "cell_type": "code",
   "execution_count": 50,
   "id": "16347552-d459-42e0-8096-3e0275274442",
   "metadata": {},
   "outputs": [
    {
     "data": {
      "text/html": [
       "<div>\n",
       "<style scoped>\n",
       "    .dataframe tbody tr th:only-of-type {\n",
       "        vertical-align: middle;\n",
       "    }\n",
       "\n",
       "    .dataframe tbody tr th {\n",
       "        vertical-align: top;\n",
       "    }\n",
       "\n",
       "    .dataframe thead th {\n",
       "        text-align: right;\n",
       "    }\n",
       "</style>\n",
       "<table border=\"1\" class=\"dataframe\">\n",
       "  <thead>\n",
       "    <tr style=\"text-align: right;\">\n",
       "      <th></th>\n",
       "      <th>DAM Price (€/MWh)</th>\n",
       "      <th>Gas Price</th>\n",
       "      <th>Carbon Price</th>\n",
       "      <th>Coal Price</th>\n",
       "      <th>Oil Price</th>\n",
       "      <th>Distillate Price</th>\n",
       "      <th>Exchange Rate (£:€)</th>\n",
       "      <th>CWF</th>\n",
       "      <th>AWO</th>\n",
       "      <th>CDF</th>\n",
       "      <th>ANDO</th>\n",
       "      <th>Generator Index 1</th>\n",
       "      <th>Generator Index 2</th>\n",
       "      <th>Generator Index 3</th>\n",
       "      <th>Generator Index 4</th>\n",
       "      <th>Generator Index 5</th>\n",
       "    </tr>\n",
       "    <tr>\n",
       "      <th>Datetime</th>\n",
       "      <th></th>\n",
       "      <th></th>\n",
       "      <th></th>\n",
       "      <th></th>\n",
       "      <th></th>\n",
       "      <th></th>\n",
       "      <th></th>\n",
       "      <th></th>\n",
       "      <th></th>\n",
       "      <th></th>\n",
       "      <th></th>\n",
       "      <th></th>\n",
       "      <th></th>\n",
       "      <th></th>\n",
       "      <th></th>\n",
       "      <th></th>\n",
       "    </tr>\n",
       "  </thead>\n",
       "  <tbody>\n",
       "    <tr>\n",
       "      <th>2018-10-01</th>\n",
       "      <td>1.214334</td>\n",
       "      <td>1.967404</td>\n",
       "      <td>-0.721478</td>\n",
       "      <td>2.343492</td>\n",
       "      <td>2.144558</td>\n",
       "      <td>1.709502</td>\n",
       "      <td>-0.482376</td>\n",
       "      <td>-0.228477</td>\n",
       "      <td>-0.221092</td>\n",
       "      <td>-0.311326</td>\n",
       "      <td>0.165431</td>\n",
       "      <td>0.689661</td>\n",
       "      <td>-1.466066</td>\n",
       "      <td>-2.993087</td>\n",
       "      <td>-1.452823</td>\n",
       "      <td>-1.113482</td>\n",
       "    </tr>\n",
       "    <tr>\n",
       "      <th>2018-10-02</th>\n",
       "      <td>0.713466</td>\n",
       "      <td>1.970294</td>\n",
       "      <td>-0.766638</td>\n",
       "      <td>2.307005</td>\n",
       "      <td>2.130754</td>\n",
       "      <td>1.762211</td>\n",
       "      <td>-0.464309</td>\n",
       "      <td>0.180081</td>\n",
       "      <td>0.216124</td>\n",
       "      <td>0.017466</td>\n",
       "      <td>-0.229276</td>\n",
       "      <td>0.496077</td>\n",
       "      <td>-1.291089</td>\n",
       "      <td>-2.772752</td>\n",
       "      <td>-1.464685</td>\n",
       "      <td>-1.201613</td>\n",
       "    </tr>\n",
       "    <tr>\n",
       "      <th>2018-10-03</th>\n",
       "      <td>1.088370</td>\n",
       "      <td>1.892265</td>\n",
       "      <td>-0.743479</td>\n",
       "      <td>2.334370</td>\n",
       "      <td>2.245024</td>\n",
       "      <td>1.763968</td>\n",
       "      <td>-0.399264</td>\n",
       "      <td>-0.393700</td>\n",
       "      <td>-0.463005</td>\n",
       "      <td>0.052323</td>\n",
       "      <td>0.536886</td>\n",
       "      <td>0.776933</td>\n",
       "      <td>-1.532559</td>\n",
       "      <td>-3.104813</td>\n",
       "      <td>-1.468798</td>\n",
       "      <td>-1.040627</td>\n",
       "    </tr>\n",
       "    <tr>\n",
       "      <th>2018-10-04</th>\n",
       "      <td>0.996966</td>\n",
       "      <td>1.887930</td>\n",
       "      <td>-0.724952</td>\n",
       "      <td>2.282681</td>\n",
       "      <td>2.113881</td>\n",
       "      <td>1.781538</td>\n",
       "      <td>-0.254721</td>\n",
       "      <td>-0.464673</td>\n",
       "      <td>-0.488154</td>\n",
       "      <td>0.030512</td>\n",
       "      <td>0.560943</td>\n",
       "      <td>0.447381</td>\n",
       "      <td>-1.844427</td>\n",
       "      <td>-2.425790</td>\n",
       "      <td>-0.347153</td>\n",
       "      <td>-2.136754</td>\n",
       "    </tr>\n",
       "    <tr>\n",
       "      <th>2018-10-05</th>\n",
       "      <td>1.063842</td>\n",
       "      <td>1.924055</td>\n",
       "      <td>-0.629998</td>\n",
       "      <td>2.316127</td>\n",
       "      <td>2.081671</td>\n",
       "      <td>1.760454</td>\n",
       "      <td>-0.063202</td>\n",
       "      <td>-1.144845</td>\n",
       "      <td>-1.156392</td>\n",
       "      <td>-0.046131</td>\n",
       "      <td>1.185276</td>\n",
       "      <td>0.046488</td>\n",
       "      <td>-1.468505</td>\n",
       "      <td>-1.983655</td>\n",
       "      <td>-0.386308</td>\n",
       "      <td>-2.451575</td>\n",
       "    </tr>\n",
       "    <tr>\n",
       "      <th>...</th>\n",
       "      <td>...</td>\n",
       "      <td>...</td>\n",
       "      <td>...</td>\n",
       "      <td>...</td>\n",
       "      <td>...</td>\n",
       "      <td>...</td>\n",
       "      <td>...</td>\n",
       "      <td>...</td>\n",
       "      <td>...</td>\n",
       "      <td>...</td>\n",
       "      <td>...</td>\n",
       "      <td>...</td>\n",
       "      <td>...</td>\n",
       "      <td>...</td>\n",
       "      <td>...</td>\n",
       "      <td>...</td>\n",
       "    </tr>\n",
       "    <tr>\n",
       "      <th>2021-06-26</th>\n",
       "      <td>1.990527</td>\n",
       "      <td>2.577185</td>\n",
       "      <td>3.166974</td>\n",
       "      <td>2.750926</td>\n",
       "      <td>1.408348</td>\n",
       "      <td>0.576249</td>\n",
       "      <td>0.995576</td>\n",
       "      <td>-0.300927</td>\n",
       "      <td>-0.406538</td>\n",
       "      <td>-1.053709</td>\n",
       "      <td>-0.063295</td>\n",
       "      <td>-0.037895</td>\n",
       "      <td>0.731943</td>\n",
       "      <td>-0.215402</td>\n",
       "      <td>3.737224</td>\n",
       "      <td>-0.642381</td>\n",
       "    </tr>\n",
       "    <tr>\n",
       "      <th>2021-06-27</th>\n",
       "      <td>1.961717</td>\n",
       "      <td>2.577185</td>\n",
       "      <td>3.166974</td>\n",
       "      <td>2.750926</td>\n",
       "      <td>1.408348</td>\n",
       "      <td>0.576249</td>\n",
       "      <td>0.995576</td>\n",
       "      <td>-0.628464</td>\n",
       "      <td>-0.641504</td>\n",
       "      <td>-1.444418</td>\n",
       "      <td>0.015717</td>\n",
       "      <td>0.288683</td>\n",
       "      <td>0.643517</td>\n",
       "      <td>-0.005075</td>\n",
       "      <td>3.783685</td>\n",
       "      <td>-0.441303</td>\n",
       "    </tr>\n",
       "    <tr>\n",
       "      <th>2021-06-28</th>\n",
       "      <td>2.359573</td>\n",
       "      <td>2.573139</td>\n",
       "      <td>3.219082</td>\n",
       "      <td>3.033697</td>\n",
       "      <td>1.313169</td>\n",
       "      <td>0.537596</td>\n",
       "      <td>1.111211</td>\n",
       "      <td>-0.976052</td>\n",
       "      <td>-0.945476</td>\n",
       "      <td>-0.272342</td>\n",
       "      <td>0.820024</td>\n",
       "      <td>0.287577</td>\n",
       "      <td>0.641383</td>\n",
       "      <td>-0.000784</td>\n",
       "      <td>3.785072</td>\n",
       "      <td>-0.415078</td>\n",
       "    </tr>\n",
       "    <tr>\n",
       "      <th>2021-06-29</th>\n",
       "      <td>2.476973</td>\n",
       "      <td>2.389338</td>\n",
       "      <td>3.234136</td>\n",
       "      <td>3.149238</td>\n",
       "      <td>1.323988</td>\n",
       "      <td>0.556923</td>\n",
       "      <td>0.995576</td>\n",
       "      <td>-0.990124</td>\n",
       "      <td>-0.947218</td>\n",
       "      <td>-0.137859</td>\n",
       "      <td>0.942367</td>\n",
       "      <td>0.254693</td>\n",
       "      <td>0.646072</td>\n",
       "      <td>-0.022596</td>\n",
       "      <td>3.776893</td>\n",
       "      <td>-0.437700</td>\n",
       "    </tr>\n",
       "    <tr>\n",
       "      <th>2021-06-30</th>\n",
       "      <td>2.974691</td>\n",
       "      <td>2.603772</td>\n",
       "      <td>3.317510</td>\n",
       "      <td>3.495860</td>\n",
       "      <td>1.350008</td>\n",
       "      <td>0.539353</td>\n",
       "      <td>1.064234</td>\n",
       "      <td>-1.472518</td>\n",
       "      <td>-1.485537</td>\n",
       "      <td>0.025824</td>\n",
       "      <td>1.564806</td>\n",
       "      <td>0.266028</td>\n",
       "      <td>0.675011</td>\n",
       "      <td>0.006293</td>\n",
       "      <td>3.805819</td>\n",
       "      <td>-0.443601</td>\n",
       "    </tr>\n",
       "  </tbody>\n",
       "</table>\n",
       "<p>1004 rows × 16 columns</p>\n",
       "</div>"
      ],
      "text/plain": [
       "            DAM Price (€/MWh)  Gas Price  Carbon Price  Coal Price  Oil Price  \\\n",
       "Datetime                                                                        \n",
       "2018-10-01           1.214334   1.967404     -0.721478    2.343492   2.144558   \n",
       "2018-10-02           0.713466   1.970294     -0.766638    2.307005   2.130754   \n",
       "2018-10-03           1.088370   1.892265     -0.743479    2.334370   2.245024   \n",
       "2018-10-04           0.996966   1.887930     -0.724952    2.282681   2.113881   \n",
       "2018-10-05           1.063842   1.924055     -0.629998    2.316127   2.081671   \n",
       "...                       ...        ...           ...         ...        ...   \n",
       "2021-06-26           1.990527   2.577185      3.166974    2.750926   1.408348   \n",
       "2021-06-27           1.961717   2.577185      3.166974    2.750926   1.408348   \n",
       "2021-06-28           2.359573   2.573139      3.219082    3.033697   1.313169   \n",
       "2021-06-29           2.476973   2.389338      3.234136    3.149238   1.323988   \n",
       "2021-06-30           2.974691   2.603772      3.317510    3.495860   1.350008   \n",
       "\n",
       "            Distillate Price  Exchange Rate (£:€)       CWF       AWO  \\\n",
       "Datetime                                                                \n",
       "2018-10-01          1.709502            -0.482376 -0.228477 -0.221092   \n",
       "2018-10-02          1.762211            -0.464309  0.180081  0.216124   \n",
       "2018-10-03          1.763968            -0.399264 -0.393700 -0.463005   \n",
       "2018-10-04          1.781538            -0.254721 -0.464673 -0.488154   \n",
       "2018-10-05          1.760454            -0.063202 -1.144845 -1.156392   \n",
       "...                      ...                  ...       ...       ...   \n",
       "2021-06-26          0.576249             0.995576 -0.300927 -0.406538   \n",
       "2021-06-27          0.576249             0.995576 -0.628464 -0.641504   \n",
       "2021-06-28          0.537596             1.111211 -0.976052 -0.945476   \n",
       "2021-06-29          0.556923             0.995576 -0.990124 -0.947218   \n",
       "2021-06-30          0.539353             1.064234 -1.472518 -1.485537   \n",
       "\n",
       "                 CDF      ANDO  Generator Index 1  Generator Index 2  \\\n",
       "Datetime                                                               \n",
       "2018-10-01 -0.311326  0.165431           0.689661          -1.466066   \n",
       "2018-10-02  0.017466 -0.229276           0.496077          -1.291089   \n",
       "2018-10-03  0.052323  0.536886           0.776933          -1.532559   \n",
       "2018-10-04  0.030512  0.560943           0.447381          -1.844427   \n",
       "2018-10-05 -0.046131  1.185276           0.046488          -1.468505   \n",
       "...              ...       ...                ...                ...   \n",
       "2021-06-26 -1.053709 -0.063295          -0.037895           0.731943   \n",
       "2021-06-27 -1.444418  0.015717           0.288683           0.643517   \n",
       "2021-06-28 -0.272342  0.820024           0.287577           0.641383   \n",
       "2021-06-29 -0.137859  0.942367           0.254693           0.646072   \n",
       "2021-06-30  0.025824  1.564806           0.266028           0.675011   \n",
       "\n",
       "            Generator Index 3  Generator Index 4  Generator Index 5  \n",
       "Datetime                                                             \n",
       "2018-10-01          -2.993087          -1.452823          -1.113482  \n",
       "2018-10-02          -2.772752          -1.464685          -1.201613  \n",
       "2018-10-03          -3.104813          -1.468798          -1.040627  \n",
       "2018-10-04          -2.425790          -0.347153          -2.136754  \n",
       "2018-10-05          -1.983655          -0.386308          -2.451575  \n",
       "...                       ...                ...                ...  \n",
       "2021-06-26          -0.215402           3.737224          -0.642381  \n",
       "2021-06-27          -0.005075           3.783685          -0.441303  \n",
       "2021-06-28          -0.000784           3.785072          -0.415078  \n",
       "2021-06-29          -0.022596           3.776893          -0.437700  \n",
       "2021-06-30           0.006293           3.805819          -0.443601  \n",
       "\n",
       "[1004 rows x 16 columns]"
      ]
     },
     "execution_count": 50,
     "metadata": {},
     "output_type": "execute_result"
    }
   ],
   "source": [
    "df_scaled"
   ]
  },
  {
   "cell_type": "code",
   "execution_count": 126,
   "id": "6c489df5-1cd0-4529-aee1-040f5d931fd3",
   "metadata": {},
   "outputs": [],
   "source": [
    "# df_scaled.head()"
   ]
  },
  {
   "cell_type": "markdown",
   "id": "00d3984d-069a-4ade-a78d-0b0728ec58c0",
   "metadata": {},
   "source": [
    "# Variability Importance Analysis\n",
    "\n",
    "This chapter is to study the importance of the independent variables towards affecting the DAM Price. Recently with the price of DAM Price is surging to a yearly high. It is an excellent opportunity to study the market landscape and differentiate the changes that are currently happening on other commodity indexes. "
   ]
  },
  {
   "cell_type": "markdown",
   "id": "99871b42-c1b5-4ae7-ade1-903c75b8b33f",
   "metadata": {},
   "source": [
    "## Correlation Analysis\n",
    "\n",
    "Firstly, a correlation matrix is plotted to study the relationship between the targeted variable against other variables"
   ]
  },
  {
   "cell_type": "code",
   "execution_count": 124,
   "id": "47014913-d579-4374-b22f-d10f1ef72468",
   "metadata": {},
   "outputs": [
    {
     "data": {
      "image/png": "[encoded data removed]",
      "text/plain": [
       "<Figure size 288x216 with 2 Axes>"
      ]
     },
     "metadata": {
      "needs_background": "light"
     },
     "output_type": "display_data"
    }
   ],
   "source": [
    "corr = df_scaled.corr()\n",
    "fig = plt.figure(figsize = (4,3))\n",
    "ax = fig.add_subplot(111)\n",
    "cax = ax.matshow(corr,cmap='coolwarm', vmin=-1, vmax=1)\n",
    "fig.colorbar(cax)\n",
    "ticks = np.arange(0,len(df_scaled.columns),1)\n",
    "ax.set_xticks(ticks)\n",
    "plt.xticks(rotation=90)\n",
    "ax.set_yticks(ticks)\n",
    "ax.set_xticklabels(df_scaled.columns)\n",
    "ax.set_yticklabels(df_scaled.columns)\n",
    "plt.show()"
   ]
  },
  {
   "cell_type": "markdown",
   "id": "e63501d9-021b-4614-a1c1-bf761f8aa30d",
   "metadata": {},
   "source": [
    "From the correlation matrix, a strong correlation can be observed between DAM Price against GAS Price, Continuous Wind Forecast(CWF), Actual Wind Output (AWO) and  Actual Net Demand Output (ANDO). However, most of the wind index has strong correlation between each other (see CWF and AWO).\n",
    "\n",
    "Based from the result, a further study/method are to be conducted using the following method:\n",
    "\n",
    "1. Regression Method\n",
    "2. Multilayer Perceptron Regressor (MLPR)\n",
    "3. Random Forest"
   ]
  },
  {
   "cell_type": "markdown",
   "id": "b80fc3ae-de8c-4aa1-9c0f-ae4ba7a31504",
   "metadata": {},
   "source": [
    "## Train and Test Dataset\n",
    "\n",
    "The data will be split between the Train/Test with the following manner:\n",
    "\n",
    "Train : 2018 - 2020\n",
    "\n",
    "Test : 2021"
   ]
  },
  {
   "cell_type": "code",
   "execution_count": 51,
   "id": "92640fa4-bec4-42fc-94e6-4103b1e82d06",
   "metadata": {},
   "outputs": [],
   "source": [
    "X = df_scaled.iloc[:,1:17]\n",
    "y = df_scaled.iloc[:,0]"
   ]
  },
  {
   "cell_type": "code",
   "execution_count": 52,
   "id": "41a8c48f-215d-4c6d-8c33-f42008cfaa19",
   "metadata": {},
   "outputs": [],
   "source": [
    "X_train = X.loc['2018-10-01' : '2020-12-31']\n",
    "y_train = y.loc['2018-10-01' : '2020-12-31']"
   ]
  },
  {
   "cell_type": "code",
   "execution_count": 53,
   "id": "933a98a5-cfc8-431c-bbc9-4a48afe59a06",
   "metadata": {
    "tags": []
   },
   "outputs": [],
   "source": [
    "X_test = X.loc['2021-01-01' : '2021-06-30']\n",
    "y_test = y.loc['2021-01-01' : '2021-06-30']"
   ]
  },
  {
   "cell_type": "markdown",
   "id": "c31b8e3d-4640-4c46-a375-73ac00d037a2",
   "metadata": {},
   "source": [
    "## Regression Analysis"
   ]
  },
  {
   "cell_type": "code",
   "execution_count": 54,
   "id": "bb9adbd6-200c-44f7-8188-18dcf44046f3",
   "metadata": {},
   "outputs": [],
   "source": [
    "from sklearn.pipeline import make_pipeline\n",
    "from sklearn.preprocessing import OneHotEncoder,StandardScaler,MinMaxScaler\n",
    "from sklearn.compose import make_column_transformer\n",
    "from sklearn.linear_model import LinearRegression\n",
    "from sklearn.ensemble import RandomForestRegressor\n",
    "from sklearn import svm\n",
    "from sklearn.metrics import mean_squared_error, r2_score\n",
    "from sklearn.model_selection import cross_validate\n",
    "from matplotlib import pyplot as plt\n",
    "from sklearn.svm import SVR"
   ]
  },
  {
   "cell_type": "code",
   "execution_count": 55,
   "id": "ed91dfbf-c14f-4a0a-8a05-b16628aa306f",
   "metadata": {},
   "outputs": [
    {
     "name": "stdout",
     "output_type": "stream",
     "text": [
      "Mean squared error: 0.36\n",
      "Coefficient of determination: 0.6814\n"
     ]
    }
   ],
   "source": [
    "lr = LinearRegression()\n",
    "model_lr = lr.fit(X_train, y_train)\n",
    "predictions_lr = model_lr.predict(X_test)\n",
    "\n",
    "# print(\"Predictions: \", predictions_lr)\n",
    "print('Mean squared error: %.2f'\n",
    "      % mean_squared_error(y_test, predictions_lr))\n",
    "print('Coefficient of determination: %.4f'\n",
    "      % r2_score(y_test, predictions_lr))\n",
    "\n",
    "# coefs = pd.DataFrame(\n",
    "#     {\n",
    "#         \"Features\" : X_train.columns.to_list(),\n",
    "#         \"Co-efficient\" : model_lr.coef_\n",
    "#     }\n",
    "# )\n",
    "\n",
    "# coefs.sort_values(by = \"Co-efficient\", ascending = False)\n",
    "\n"
   ]
  },
  {
   "cell_type": "code",
   "execution_count": 56,
   "id": "96da16cf-98ac-4868-a28e-cc712e38cf80",
   "metadata": {},
   "outputs": [
    {
     "data": {
      "text/plain": [
       "<AxesSubplot:>"
      ]
     },
     "execution_count": 56,
     "metadata": {},
     "output_type": "execute_result"
    },
    {
     "data": {
      "image/png": "[encoded data removed]",
      "text/plain": [
       "<Figure size 360x180 with 1 Axes>"
      ]
     },
     "metadata": {
      "needs_background": "light"
     },
     "output_type": "display_data"
    }
   ],
   "source": [
    "fig, ax = plt.subplots(figsize = (5,3))\n",
    "pd.Series(model_lr.coef_,index=X.columns).sort_values().plot(kind='bar', figsize = (5,2.5))"
   ]
  },
  {
   "cell_type": "markdown",
   "id": "e123bf6a-8a6b-4dde-93bf-84cf312b9abb",
   "metadata": {},
   "source": [
    "Based from the result of regression analysis\n",
    "\n",
    "R^2 = 68% <br>\n",
    "\n",
    "Based from the R-Squared score, the model tend to explained 68% of variance for 2021 test data. \n",
    "\n",
    "**Variable Importance Analysis Result**<br>\n",
    "\n",
    "The plot showed that CWF, AWO and Gas price tend has the highest coefficient values. CWF is negatively correlated to DAM Price and GAS Price and AWO is positively correlated to DAM Price for this Regression model.  However, since AWO and CWF are strongly correlated, further analysis on the relationship on DAM Price against Continuos Wind Forecast and Gas Price only. \n"
   ]
  },
  {
   "cell_type": "markdown",
   "id": "df896a3e-b798-4637-8460-a05afbd0974e",
   "metadata": {},
   "source": [
    "## Multi Layer Perceptron Regressor"
   ]
  },
  {
   "cell_type": "code",
   "execution_count": 57,
   "id": "31cca813-9e2f-4815-ba6e-2b97226b76a8",
   "metadata": {},
   "outputs": [
    {
     "name": "stdout",
     "output_type": "stream",
     "text": [
      "Coefficient of determination: 0.71\n"
     ]
    }
   ],
   "source": [
    "from sklearn.model_selection import cross_val_score\n",
    "from sklearn.neural_network import MLPRegressor\n",
    "\n",
    "reg = MLPRegressor(random_state=1, max_iter=400000, activation='relu', solver = 'sgd', hidden_layer_sizes = 150, learning_rate = 'adaptive' , learning_rate_init = 0.013)\n",
    "model_mlp = reg.fit(X_train, y_train)\n",
    "prediction_mlp = model_mlp.predict(X_test)\n",
    "\n",
    "print('Coefficient of determination: %.2f'\n",
    "      % model_mlp.score(X_test,y_test))\n",
    "\n",
    "# print('Coefficient of determination: %.4f'\n",
    "#       % r2_score(y_test, prediction_reg))\n",
    "\n",
    "# cross_val_score(dtr, X_test, y_test, cv=10)"
   ]
  },
  {
   "cell_type": "markdown",
   "id": "a5382c96-ca3a-48af-9e68-1534d943cef1",
   "metadata": {},
   "source": [
    "Next, the data is pass into Multi Layer Perceptron Regressor. This model manage to improve the R^2 score by 3% to 71%.\n",
    "However, machine learning method doesnt provide much information on the variable importance. (Black Box Problem). The model will be used to predict DAM Price during the implementation of trading strategy later in this project. "
   ]
  },
  {
   "cell_type": "markdown",
   "id": "87429545-9ad3-4cff-80f5-8d82017a8893",
   "metadata": {},
   "source": [
    "## Random Forest Regressor"
   ]
  },
  {
   "cell_type": "code",
   "execution_count": 58,
   "id": "e031b294-bf96-40a7-87fe-a3087543d918",
   "metadata": {},
   "outputs": [
    {
     "name": "stdout",
     "output_type": "stream",
     "text": [
      "Mean squared error: 0.78\n",
      "Coefficient of determination: 0.31\n"
     ]
    },
    {
     "data": {
      "text/plain": [
       "<AxesSubplot:>"
      ]
     },
     "execution_count": 58,
     "metadata": {},
     "output_type": "execute_result"
    },
    {
     "data": {
      "image/png": "[encoded data removed]",
      "text/plain": [
       "<Figure size 360x180 with 1 Axes>"
      ]
     },
     "metadata": {
      "needs_background": "light"
     },
     "output_type": "display_data"
    }
   ],
   "source": [
    "rf = RandomForestRegressor(n_jobs=-1)\n",
    "model_rf = rf.fit(X_train, y_train)\n",
    "prediction_rf = model_rf.predict(X_test)\n",
    "\n",
    "# print(\"Predictions: \", prediction_rf)\n",
    "print('Mean squared error: %.2f'\n",
    "      % mean_squared_error(y_test, prediction_rf))\n",
    "print('Coefficient of determination: %.2f'\n",
    "      % r2_score(y_test, prediction_rf))\n",
    "\n",
    "coefs1 = pd.DataFrame(\n",
    "    {\n",
    "        \"Features\" : X_train.columns.to_list(),\n",
    "        \"Importance\" : rf.feature_importances_\n",
    "    }\n",
    ")\n",
    "\n",
    "coefs1.sort_values(by = \"Importance\", ascending = False)\n",
    "\n",
    "pd.Series(rf.feature_importances_,index=X.columns).sort_values().plot(kind='barh',figsize = (5,2.5))"
   ]
  },
  {
   "cell_type": "markdown",
   "id": "b6613e2d-6f67-41b4-b7aa-384156d3c7b1",
   "metadata": {},
   "source": [
    "**Results**\n",
    "\n",
    "R^2 = 34%, Model tend to not learn very well based on the train dataset.\n",
    "However, based on the Features Importance Output, \n",
    "It validates similar results as per Regression Analysis of which Gas Price and Wind Index to play an important role in affecting the DAM Price. "
   ]
  },
  {
   "cell_type": "markdown",
   "id": "aa61ac15-52ac-44d9-b858-adbf16ea1fee",
   "metadata": {},
   "source": [
    "## Result Visualisation\n",
    "\n",
    "For this part, All the result from the analysis will be visualised. The focus will be on GAS Price and CWF against DAM Price. "
   ]
  },
  {
   "cell_type": "code",
   "execution_count": 59,
   "id": "8dce45f0-b442-4140-89dd-c03175b351cb",
   "metadata": {},
   "outputs": [],
   "source": [
    "dfplot1 = df['DAM Price (€/MWh)'].resample('M').mean()"
   ]
  },
  {
   "cell_type": "code",
   "execution_count": 60,
   "id": "8dc53bba-be92-4cc7-94a2-d7cb371650a0",
   "metadata": {},
   "outputs": [],
   "source": [
    "import matplotlib\n",
    "import matplotlib.pyplot as plt\n",
    "import seaborn as sns\n"
   ]
  },
  {
   "cell_type": "code",
   "execution_count": 61,
   "id": "e6424cea-691e-4bfa-a03d-e882bb774424",
   "metadata": {
    "tags": []
   },
   "outputs": [],
   "source": [
    "dfplot1 = pd.DataFrame(dfplot1)"
   ]
  },
  {
   "cell_type": "code",
   "execution_count": 62,
   "id": "cfc075b2-9401-450c-a3a2-7a0d1f707d78",
   "metadata": {},
   "outputs": [],
   "source": [
    "dfplot2 = df['CWF'].resample('M').mean()"
   ]
  },
  {
   "cell_type": "code",
   "execution_count": 63,
   "id": "16ce5b87-cda8-4409-a1e9-276bc2644697",
   "metadata": {
    "tags": []
   },
   "outputs": [],
   "source": [
    "dfplot2 = pd.DataFrame(dfplot2)"
   ]
  },
  {
   "cell_type": "code",
   "execution_count": 64,
   "id": "4e2563ca-cc0f-43f4-80a6-ecf291ce9650",
   "metadata": {},
   "outputs": [],
   "source": [
    "dfplot3 = df['AWO'].resample('M').mean()"
   ]
  },
  {
   "cell_type": "code",
   "execution_count": 65,
   "id": "dbf6ff93-a0d5-4271-918f-55d466fd0b18",
   "metadata": {},
   "outputs": [],
   "source": [
    "dfplot4 = df['Gas Price'].resample('M').mean()"
   ]
  },
  {
   "cell_type": "code",
   "execution_count": 66,
   "id": "5b74e934-db9e-44cc-8fbf-cfad9a029e3c",
   "metadata": {},
   "outputs": [],
   "source": [
    "plotdata = dfplot1.join(dfplot2).join(dfplot3).join(dfplot4)"
   ]
  },
  {
   "cell_type": "code",
   "execution_count": 67,
   "id": "ec212c35-8541-416f-baf6-a080ff9c68be",
   "metadata": {},
   "outputs": [],
   "source": [
    "# fig, ax = plt.subplots(figsize = (10,8))    \n",
    "# fig = sns.barplot(x = plotdata.index.date, y =plotdata[\"DAM Price (€/MWh)\"] , data = plotdata, ci = None, ax=ax, label=\"Average Monthly DAM\")\n",
    "\n",
    "# for tick in ax.get_xticklabels():\n",
    "#     tick.set_rotation(45)\n",
    "# ax.legend(loc=1)\n",
    "# ax.set_title('Monthly DAM Price')"
   ]
  },
  {
   "cell_type": "code",
   "execution_count": 68,
   "id": "b12206b4-446f-4d95-9f26-909b8606e56a",
   "metadata": {},
   "outputs": [
    {
     "data": {
      "image/png": "[encoded data removed]",
      "text/plain": [
       "<Figure size 504x216 with 2 Axes>"
      ]
     },
     "metadata": {
      "needs_background": "light"
     },
     "output_type": "display_data"
    }
   ],
   "source": [
    "fig, ax1 = plt.subplots(figsize = (7,3))\n",
    "ax2 = ax1.twinx()  # set up the 2nd axis\n",
    "ax1.plot(plotdata.CWF, label=\"Continuous Wind Forecast\") #plot the Revenue on axis #1\n",
    "\n",
    "# the next few lines plot the fiscal year data as bar plots and changes the color for each.\n",
    "ax2.bar(plotdata.index, plotdata['DAM Price (€/MWh)'],width=20, alpha=0.2, color='green', label=\"Average Monthly DAM\")\n",
    "\n",
    "\n",
    "ax2.grid(b=False) # turn off grid #2\n",
    "\n",
    "ax1.set_title('Monthly DAM Price vs Continuous Wind Forecast')\n",
    "ax1.set_ylabel('Continuous Wind Forecast')\n",
    "ax2.set_ylabel('DAM Price (€/MWh)')\n",
    "ax2.legend(loc=3)\n",
    "ax1.legend(loc=4)\n",
    "\n",
    "\n",
    "for tick in ax1.get_xticklabels():\n",
    "    tick.set_rotation(45)"
   ]
  },
  {
   "cell_type": "markdown",
   "id": "9b419bfa-2f85-452c-9ad4-2a44d1455e5a",
   "metadata": {},
   "source": [
    "From the plot above, the graph proved that the movement of monthly average price of DAM is against the direction of Continuous Wind Forecast. The trend surfaced more clearly during end of 2019 to early 2020 and second quarter of 2021. "
   ]
  },
  {
   "cell_type": "code",
   "execution_count": 69,
   "id": "86dc940a-2ba3-456b-8ae2-4c2cf6a6096b",
   "metadata": {},
   "outputs": [
    {
     "data": {
      "image/png": "[encoded data removed]",
      "text/plain": [
       "<Figure size 504x216 with 2 Axes>"
      ]
     },
     "metadata": {
      "needs_background": "light"
     },
     "output_type": "display_data"
    }
   ],
   "source": [
    "fig, ax1 = plt.subplots(figsize = (7,3))\n",
    "ax2 = ax1.twinx()  # set up the 2nd axis\n",
    "ax1.plot(plotdata['Gas Price'], label=\"Average Gas Price\") #plot the Revenue on axis #1\n",
    "\n",
    "# the next few lines plot the fiscal year data as bar plots and changes the color for each.\n",
    "ax2.bar(plotdata.index, plotdata['DAM Price (€/MWh)'],width=20, alpha=0.2, color='green', label=\"Average Monthly DAM\")\n",
    "\n",
    "\n",
    "ax2.grid(b=False) # turn off grid #2\n",
    "\n",
    "ax1.set_title('Average DAM Price vs Gas Price')\n",
    "ax1.set_ylabel('Gas Price')\n",
    "ax2.set_ylabel('DAM Price (€/MWh)')\n",
    "ax2.legend(loc=3)\n",
    "ax1.legend(loc=4)\n",
    "\n",
    "\n",
    "for tick in ax1.get_xticklabels():\n",
    "    tick.set_rotation(45)"
   ]
  },
  {
   "cell_type": "markdown",
   "id": "17bf866d-08f4-49ea-b21f-86e274c2a185",
   "metadata": {},
   "source": [
    "The plot showcased a strong positive correlation between the average monthly price of DAM and Average Monthly Price of Gas. \n",
    "\n",
    "Based from these 2 plots, it can be conclude that the movement of DAM Price is highly affected by these 2 variables. Hence, The surge on DAM Price in 2021 may due to the combination of Increased Gas Price and Low Wind Output"
   ]
  },
  {
   "cell_type": "markdown",
   "id": "d3c29e29-8037-4d2c-ac93-002dc36be466",
   "metadata": {},
   "source": [
    "# Development of Trading Strategy and Algorithm\n",
    "\n",
    "In this section, it will mainly focus on the development of trading algorithm based on the information gathered from the previous analysis. The trading strategies will be used on the trading data, which is on half-hour row inputs. The trading data consist of DAM Price, IDA1, IDA2, IDA3, and BM Price. \n",
    "\n",
    "A similar data-wrangling method will be applied to the trading data. However, the gas price, which is in daily frequency, requires some adjustment to fit the half-hour rows. Thus, the forward fill method will be applied after spreading the DateTime index. The dataset can be observed by running code line 130. "
   ]
  },
  {
   "cell_type": "code",
   "execution_count": 70,
   "id": "9f004dd9-c50b-4c0c-b9ab-61a6af0688b4",
   "metadata": {},
   "outputs": [],
   "source": [
    "tradedata = pd.read_csv(\"rawdata7.csv\")"
   ]
  },
  {
   "cell_type": "code",
   "execution_count": 71,
   "id": "c3e36317-7474-4c1c-ae7b-4fc584acd54b",
   "metadata": {},
   "outputs": [],
   "source": [
    "# tradedata['Cont WF'] = tradedata['Cont WF'].astype(int)\n",
    "tradedata['Datetime'] = pd.to_datetime(tradedata['Datetime'] ,format=\"%d/%m/%Y %H:%M\" )\n",
    "tradedata = tradedata.drop('Trade Date', axis=1)\n",
    "tradedata.set_index('Datetime', inplace=True)\n",
    "tradedata = tradedata[2:]\n",
    "tradedata = tradedata.loc[: '2021-06-30 00:00:00']"
   ]
  },
  {
   "cell_type": "code",
   "execution_count": 72,
   "id": "d97bc761-42d5-4b2d-a3dd-aa1115774a74",
   "metadata": {},
   "outputs": [],
   "source": [
    "comdata1 = comdata.resample('30min').sum()\n",
    "comdata1 = comdata1.replace(to_replace=0, method='ffill')\n",
    "comdata1 = comdata1[comdata1.index.year >= 2019]"
   ]
  },
  {
   "cell_type": "code",
   "execution_count": 73,
   "id": "ce93bacd-0046-4278-89d8-2a5041111ad6",
   "metadata": {},
   "outputs": [],
   "source": [
    "tradedata = tradedata.join(comdata1['Gas Price'])"
   ]
  },
  {
   "cell_type": "code",
   "execution_count": 74,
   "id": "aaa737d3-dd4d-4293-a3ce-09ddc2df9fcc",
   "metadata": {},
   "outputs": [],
   "source": [
    "tradedata.dropna(subset=['Cont WF'],inplace=True)"
   ]
  },
  {
   "cell_type": "code",
   "execution_count": 75,
   "id": "c896c5f8-526f-4101-bcbb-0efd780feeac",
   "metadata": {},
   "outputs": [
    {
     "data": {
      "text/html": [
       "<div>\n",
       "<style scoped>\n",
       "    .dataframe tbody tr th:only-of-type {\n",
       "        vertical-align: middle;\n",
       "    }\n",
       "\n",
       "    .dataframe tbody tr th {\n",
       "        vertical-align: top;\n",
       "    }\n",
       "\n",
       "    .dataframe thead th {\n",
       "        text-align: right;\n",
       "    }\n",
       "</style>\n",
       "<table border=\"1\" class=\"dataframe\">\n",
       "  <thead>\n",
       "    <tr style=\"text-align: right;\">\n",
       "      <th></th>\n",
       "      <th>Start Time</th>\n",
       "      <th>DAM Price (€/MWh)</th>\n",
       "      <th>IDA1 Price (€/MWh)</th>\n",
       "      <th>IDA2 Price (€/MWh)</th>\n",
       "      <th>IDA3 Price (€/MWh)</th>\n",
       "      <th>BM Price (€/MWh)</th>\n",
       "      <th>Volume (NIV)</th>\n",
       "      <th>DA WF</th>\n",
       "      <th>Cont WF</th>\n",
       "      <th>Act Wind</th>\n",
       "      <th>DADF</th>\n",
       "      <th>CDF</th>\n",
       "      <th>Act Demand</th>\n",
       "      <th>Day Ahead Net Demand Forecast</th>\n",
       "      <th>Continuous Net Demand Forecast</th>\n",
       "      <th>Actual Net Demand Output</th>\n",
       "      <th>Gas Price</th>\n",
       "    </tr>\n",
       "    <tr>\n",
       "      <th>Datetime</th>\n",
       "      <th></th>\n",
       "      <th></th>\n",
       "      <th></th>\n",
       "      <th></th>\n",
       "      <th></th>\n",
       "      <th></th>\n",
       "      <th></th>\n",
       "      <th></th>\n",
       "      <th></th>\n",
       "      <th></th>\n",
       "      <th></th>\n",
       "      <th></th>\n",
       "      <th></th>\n",
       "      <th></th>\n",
       "      <th></th>\n",
       "      <th></th>\n",
       "      <th></th>\n",
       "    </tr>\n",
       "  </thead>\n",
       "  <tbody>\n",
       "    <tr>\n",
       "      <th>2019-01-01 00:00:00</th>\n",
       "      <td>0:00:00</td>\n",
       "      <td>70.28</td>\n",
       "      <td>75.000</td>\n",
       "      <td>NaN</td>\n",
       "      <td>NaN</td>\n",
       "      <td>35.30</td>\n",
       "      <td>-19.23</td>\n",
       "      <td>902.0</td>\n",
       "      <td>838.0</td>\n",
       "      <td>925.0</td>\n",
       "      <td>3812.0</td>\n",
       "      <td>3812.0</td>\n",
       "      <td>3683.0</td>\n",
       "      <td>2910</td>\n",
       "      <td>2974</td>\n",
       "      <td>2758</td>\n",
       "      <td>56.0</td>\n",
       "    </tr>\n",
       "    <tr>\n",
       "      <th>2019-01-01 00:30:00</th>\n",
       "      <td>0:30:00</td>\n",
       "      <td>70.28</td>\n",
       "      <td>74.000</td>\n",
       "      <td>NaN</td>\n",
       "      <td>NaN</td>\n",
       "      <td>34.61</td>\n",
       "      <td>-23.61</td>\n",
       "      <td>902.0</td>\n",
       "      <td>827.0</td>\n",
       "      <td>905.0</td>\n",
       "      <td>3812.0</td>\n",
       "      <td>3812.0</td>\n",
       "      <td>3586.0</td>\n",
       "      <td>2910</td>\n",
       "      <td>2985</td>\n",
       "      <td>2681</td>\n",
       "      <td>56.0</td>\n",
       "    </tr>\n",
       "    <tr>\n",
       "      <th>2019-01-01 01:00:00</th>\n",
       "      <td>1:00:00</td>\n",
       "      <td>65.18</td>\n",
       "      <td>65.274</td>\n",
       "      <td>NaN</td>\n",
       "      <td>NaN</td>\n",
       "      <td>30.11</td>\n",
       "      <td>-25.90</td>\n",
       "      <td>765.0</td>\n",
       "      <td>710.0</td>\n",
       "      <td>906.0</td>\n",
       "      <td>3619.0</td>\n",
       "      <td>3615.0</td>\n",
       "      <td>3501.0</td>\n",
       "      <td>2854</td>\n",
       "      <td>2905</td>\n",
       "      <td>2595</td>\n",
       "      <td>56.0</td>\n",
       "    </tr>\n",
       "    <tr>\n",
       "      <th>2019-01-01 01:30:00</th>\n",
       "      <td>1:30:00</td>\n",
       "      <td>65.18</td>\n",
       "      <td>60.596</td>\n",
       "      <td>NaN</td>\n",
       "      <td>NaN</td>\n",
       "      <td>25.11</td>\n",
       "      <td>-32.79</td>\n",
       "      <td>765.0</td>\n",
       "      <td>723.0</td>\n",
       "      <td>878.0</td>\n",
       "      <td>3619.0</td>\n",
       "      <td>3615.0</td>\n",
       "      <td>3368.0</td>\n",
       "      <td>2854</td>\n",
       "      <td>2892</td>\n",
       "      <td>2490</td>\n",
       "      <td>56.0</td>\n",
       "    </tr>\n",
       "    <tr>\n",
       "      <th>2019-01-01 02:00:00</th>\n",
       "      <td>2:00:00</td>\n",
       "      <td>60.91</td>\n",
       "      <td>50.261</td>\n",
       "      <td>NaN</td>\n",
       "      <td>NaN</td>\n",
       "      <td>25.64</td>\n",
       "      <td>-29.34</td>\n",
       "      <td>609.0</td>\n",
       "      <td>576.0</td>\n",
       "      <td>703.0</td>\n",
       "      <td>3372.0</td>\n",
       "      <td>3371.0</td>\n",
       "      <td>3222.0</td>\n",
       "      <td>2763</td>\n",
       "      <td>2795</td>\n",
       "      <td>2519</td>\n",
       "      <td>56.0</td>\n",
       "    </tr>\n",
       "  </tbody>\n",
       "</table>\n",
       "</div>"
      ],
      "text/plain": [
       "                    Start Time  DAM Price (€/MWh)  IDA1 Price (€/MWh)  \\\n",
       "Datetime                                                                \n",
       "2019-01-01 00:00:00    0:00:00              70.28              75.000   \n",
       "2019-01-01 00:30:00    0:30:00              70.28              74.000   \n",
       "2019-01-01 01:00:00    1:00:00              65.18              65.274   \n",
       "2019-01-01 01:30:00    1:30:00              65.18              60.596   \n",
       "2019-01-01 02:00:00    2:00:00              60.91              50.261   \n",
       "\n",
       "                     IDA2 Price (€/MWh)  IDA3 Price (€/MWh)  BM Price (€/MWh)  \\\n",
       "Datetime                                                                        \n",
       "2019-01-01 00:00:00                 NaN                 NaN             35.30   \n",
       "2019-01-01 00:30:00                 NaN                 NaN             34.61   \n",
       "2019-01-01 01:00:00                 NaN                 NaN             30.11   \n",
       "2019-01-01 01:30:00                 NaN                 NaN             25.11   \n",
       "2019-01-01 02:00:00                 NaN                 NaN             25.64   \n",
       "\n",
       "                     Volume (NIV)  DA WF  Cont WF  Act Wind    DADF     CDF  \\\n",
       "Datetime                                                                      \n",
       "2019-01-01 00:00:00        -19.23  902.0    838.0     925.0  3812.0  3812.0   \n",
       "2019-01-01 00:30:00        -23.61  902.0    827.0     905.0  3812.0  3812.0   \n",
       "2019-01-01 01:00:00        -25.90  765.0    710.0     906.0  3619.0  3615.0   \n",
       "2019-01-01 01:30:00        -32.79  765.0    723.0     878.0  3619.0  3615.0   \n",
       "2019-01-01 02:00:00        -29.34  609.0    576.0     703.0  3372.0  3371.0   \n",
       "\n",
       "                     Act Demand  Day Ahead Net Demand Forecast  \\\n",
       "Datetime                                                         \n",
       "2019-01-01 00:00:00      3683.0                           2910   \n",
       "2019-01-01 00:30:00      3586.0                           2910   \n",
       "2019-01-01 01:00:00      3501.0                           2854   \n",
       "2019-01-01 01:30:00      3368.0                           2854   \n",
       "2019-01-01 02:00:00      3222.0                           2763   \n",
       "\n",
       "                     Continuous Net Demand Forecast  Actual Net Demand Output  \\\n",
       "Datetime                                                                        \n",
       "2019-01-01 00:00:00                            2974                      2758   \n",
       "2019-01-01 00:30:00                            2985                      2681   \n",
       "2019-01-01 01:00:00                            2905                      2595   \n",
       "2019-01-01 01:30:00                            2892                      2490   \n",
       "2019-01-01 02:00:00                            2795                      2519   \n",
       "\n",
       "                     Gas Price  \n",
       "Datetime                        \n",
       "2019-01-01 00:00:00       56.0  \n",
       "2019-01-01 00:30:00       56.0  \n",
       "2019-01-01 01:00:00       56.0  \n",
       "2019-01-01 01:30:00       56.0  \n",
       "2019-01-01 02:00:00       56.0  "
      ]
     },
     "execution_count": 75,
     "metadata": {},
     "output_type": "execute_result"
    }
   ],
   "source": [
    "tradedata.head()"
   ]
  },
  {
   "cell_type": "markdown",
   "id": "bfd12faa-483d-401a-9703-a68c40066503",
   "metadata": {},
   "source": [
    "## Trade Strategy 1\n",
    "\n",
    "For the first strategy, the data showed that DAM Price is higher than BM for avery half hour timeline by 58.42%.\n",
    "\n",
    "Hence, a simple trading rule is applied on the trading data which is to sell all DAM Price for every half hour from 2019 to 2021"
   ]
  },
  {
   "cell_type": "code",
   "execution_count": 270,
   "id": "0356dff0-698b-471d-9787-b8b0ed1b522d",
   "metadata": {},
   "outputs": [],
   "source": [
    "#Rule base 1\n",
    "rule1 = (tradedata['DAM Price (€/MWh)'] > tradedata['BM Price (€/MWh)']).sum()/tradedata.shape[0]\n",
    "#print('DAM Price is higher than BM Price by:', (rule1*100).round(2),'%')"
   ]
  },
  {
   "cell_type": "code",
   "execution_count": 271,
   "id": "d6030ca8-d7cb-49da-8c47-0cc1356ead03",
   "metadata": {},
   "outputs": [],
   "source": [
    "def traderule1(damprice, bmprice):\n",
    "    x = damprice\n",
    "    y = bmprice\n",
    "\n",
    "    return (x - y)"
   ]
  },
  {
   "cell_type": "code",
   "execution_count": 272,
   "id": "6e6b2163-1087-4a5f-b12b-3020603cdbb8",
   "metadata": {},
   "outputs": [],
   "source": [
    "profit_rule1 = tradedata.apply(lambda x:traderule1(x['DAM Price (€/MWh)'],x['BM Price (€/MWh)']),axis=1)"
   ]
  },
  {
   "cell_type": "code",
   "execution_count": 273,
   "id": "5b5f55af-ea18-4c34-9d0f-1321dd8a4aae",
   "metadata": {},
   "outputs": [],
   "source": [
    "tradedata['Strat1_profit'] = profit_rule1"
   ]
  },
  {
   "cell_type": "code",
   "execution_count": 274,
   "id": "601735b7-f6e4-4171-b7b0-f64d3e2a1dd0",
   "metadata": {},
   "outputs": [
    {
     "data": {
      "text/plain": [
       "34258.414000000004"
      ]
     },
     "execution_count": 274,
     "metadata": {},
     "output_type": "execute_result"
    }
   ],
   "source": [
    "profit_rule1.sum()"
   ]
  },
  {
   "cell_type": "code",
   "execution_count": 275,
   "id": "c9a125de-4f40-458f-9e4e-8cd2a4c78f8c",
   "metadata": {},
   "outputs": [
    {
     "data": {
      "text/plain": [
       "<AxesSubplot:xlabel='Datetime'>"
      ]
     },
     "execution_count": 275,
     "metadata": {},
     "output_type": "execute_result"
    },
    {
     "data": {
      "image/png": "[encoded data removed]",
      "text/plain": [
       "<Figure size 504x216 with 1 Axes>"
      ]
     },
     "metadata": {
      "needs_background": "light"
     },
     "output_type": "display_data"
    }
   ],
   "source": [
    "profit_rule1.cumsum().plot(figsize = (7,3))"
   ]
  },
  {
   "cell_type": "markdown",
   "id": "d943d0b5-a8bf-4188-aa0e-9aa2e51ec18b",
   "metadata": {},
   "source": [
    "Based on the result from the chart which plots the value of cumulative profit. The profit gain for 3 years is at EUR34,258. The trading frequency is 100% for all the 3 years. Some losses are recorded during 2020, but it stabilised back in 2021. "
   ]
  },
  {
   "cell_type": "markdown",
   "id": "e5cd4f85-bc2b-491c-bbd1-2f344429e155",
   "metadata": {},
   "source": [
    "## Trade Strategy 2\n",
    "\n",
    "Trading strategy 2 will trade base on the value of CWF and Gas Price. \n",
    "The strategy is to sell the t+1 DAM Price and buy back BM Price if the value of t index satisfy the following rule\n",
    "\n",
    "1. value of Cont WF is more than 1,000\n",
    "2. Value of Gas price is less than 35"
   ]
  },
  {
   "cell_type": "code",
   "execution_count": 276,
   "id": "98487456-cbd4-4bc5-8dd8-84682494ea6c",
   "metadata": {},
   "outputs": [],
   "source": [
    "profit_rule2 = [np.nan]\n",
    "\n",
    "for i in range(len(tradedata)):\n",
    "    if (tradedata.iloc[i,8] > 1000) & (tradedata.iloc[i,16] < 35):\n",
    "        profit_rule2.append(tradedata.iloc[i+1, 1] - tradedata.iloc[i+1, 5])\n",
    "    else:\n",
    "        profit_rule2.append(np.nan)\n",
    "\n",
    "profit_rule2 = profit_rule2[:-1]\n",
    "    "
   ]
  },
  {
   "cell_type": "code",
   "execution_count": 277,
   "id": "93e95ba0-4e5a-4763-8f0d-3eb1734c2e18",
   "metadata": {},
   "outputs": [],
   "source": [
    "tradedata['Strat2_profit'] = profit_rule2"
   ]
  },
  {
   "cell_type": "code",
   "execution_count": 278,
   "id": "b450e7a0-b3f3-47db-baae-545e60852a37",
   "metadata": {
    "tags": []
   },
   "outputs": [
    {
     "data": {
      "text/html": [
       "<div>\n",
       "<style scoped>\n",
       "    .dataframe tbody tr th:only-of-type {\n",
       "        vertical-align: middle;\n",
       "    }\n",
       "\n",
       "    .dataframe tbody tr th {\n",
       "        vertical-align: top;\n",
       "    }\n",
       "\n",
       "    .dataframe thead th {\n",
       "        text-align: right;\n",
       "    }\n",
       "</style>\n",
       "<table border=\"1\" class=\"dataframe\">\n",
       "  <thead>\n",
       "    <tr style=\"text-align: right;\">\n",
       "      <th></th>\n",
       "      <th>DAM Price (€/MWh)</th>\n",
       "      <th>BM Price (€/MWh)</th>\n",
       "      <th>Cont WF</th>\n",
       "      <th>Gas Price</th>\n",
       "      <th>Strat2_profit</th>\n",
       "    </tr>\n",
       "    <tr>\n",
       "      <th>Datetime</th>\n",
       "      <th></th>\n",
       "      <th></th>\n",
       "      <th></th>\n",
       "      <th></th>\n",
       "      <th></th>\n",
       "    </tr>\n",
       "  </thead>\n",
       "  <tbody>\n",
       "    <tr>\n",
       "      <th>2019-04-19 06:30:00</th>\n",
       "      <td>44.770</td>\n",
       "      <td>34.02</td>\n",
       "      <td>1248.0</td>\n",
       "      <td>33.1</td>\n",
       "      <td>10.750</td>\n",
       "    </tr>\n",
       "    <tr>\n",
       "      <th>2019-04-19 07:00:00</th>\n",
       "      <td>48.505</td>\n",
       "      <td>35.07</td>\n",
       "      <td>1128.0</td>\n",
       "      <td>33.1</td>\n",
       "      <td>13.435</td>\n",
       "    </tr>\n",
       "    <tr>\n",
       "      <th>2019-04-19 07:30:00</th>\n",
       "      <td>48.505</td>\n",
       "      <td>34.33</td>\n",
       "      <td>1157.0</td>\n",
       "      <td>33.1</td>\n",
       "      <td>14.175</td>\n",
       "    </tr>\n",
       "  </tbody>\n",
       "</table>\n",
       "</div>"
      ],
      "text/plain": [
       "                     DAM Price (€/MWh)  BM Price (€/MWh)  Cont WF  Gas Price  \\\n",
       "Datetime                                                                       \n",
       "2019-04-19 06:30:00             44.770             34.02   1248.0       33.1   \n",
       "2019-04-19 07:00:00             48.505             35.07   1128.0       33.1   \n",
       "2019-04-19 07:30:00             48.505             34.33   1157.0       33.1   \n",
       "\n",
       "                     Strat2_profit  \n",
       "Datetime                            \n",
       "2019-04-19 06:30:00         10.750  \n",
       "2019-04-19 07:00:00         13.435  \n",
       "2019-04-19 07:30:00         14.175  "
      ]
     },
     "execution_count": 278,
     "metadata": {},
     "output_type": "execute_result"
    }
   ],
   "source": [
    "tradedata.iloc[5197:5200,[1,5,8,16,18]]"
   ]
  },
  {
   "cell_type": "markdown",
   "id": "3f373b0b-86b0-497e-b7fb-5da2792b129c",
   "metadata": {},
   "source": [
    "The Above is the example of Strat 2 Profits on 3 half-hour periods. Notice that for the first row, the Cont WF is above 1,000 and Gas price is below 35, thus, the algo will short DAM Price for the next period (Sold at 48.505) and Buy back at 35.07 gaining 13.43 Euros.\n",
    "Same goes for the next period where 14.17 Euros was gained.\n",
    "\n",
    "the total profit gain in 3 years for this strategy is EUR50,670 "
   ]
  },
  {
   "cell_type": "code",
   "execution_count": 279,
   "id": "79da28e8-f894-4dab-b410-c1f92068c014",
   "metadata": {},
   "outputs": [],
   "source": [
    "# np.nansum(profit_rule2)"
   ]
  },
  {
   "cell_type": "code",
   "execution_count": 280,
   "id": "0ceff0cf-7888-4036-bb2f-6a4f64f351e7",
   "metadata": {},
   "outputs": [
    {
     "data": {
      "text/plain": [
       "<AxesSubplot:xlabel='Datetime'>"
      ]
     },
     "execution_count": 280,
     "metadata": {},
     "output_type": "execute_result"
    },
    {
     "data": {
      "image/png": "[encoded data removed]",
      "text/plain": [
       "<Figure size 504x216 with 1 Axes>"
      ]
     },
     "metadata": {
      "needs_background": "light"
     },
     "output_type": "display_data"
    }
   ],
   "source": [
    "cumsum1 = pd.DataFrame(profit_rule2,columns=['Cumulative Profit Rule 2'],index=tradedata.index)\n",
    "cumsum1.cumsum().plot(figsize = (7,3))"
   ]
  },
  {
   "cell_type": "markdown",
   "id": "83ab283c-e573-44d5-adf4-979121b99015",
   "metadata": {},
   "source": [
    "Based from the plot, Trade strategy 2 performs extremely well in 2019 and moderately in 2020. However in 2021, the strategy didnt trade any period as the Gas Price did not satisfy the threshold \n",
    "which was set in the algorithm. The gas price for 2021 has been above 35 until June 2021. Thus, it has 0% period traded in 2021. "
   ]
  },
  {
   "cell_type": "markdown",
   "id": "5bd3f147-fd56-4d36-ad96-263de5c28889",
   "metadata": {},
   "source": [
    "## Trade Strategy 3 (using Prediction values)\n",
    "\n",
    "Trading strategy 3 will trade base on the value of Cont WF, Gas Price and using the value of Pred DAM which is value simulate using MLP Regressor.\n",
    "Sample of Pred DAM is seen below\n",
    "\n"
   ]
  },
  {
   "cell_type": "code",
   "execution_count": 281,
   "id": "c6864097-2012-474c-a179-cc59bd4753b2",
   "metadata": {},
   "outputs": [],
   "source": [
    "prediction_mlp1 = model_mlp.predict(X)\n",
    "df_scaled['Dam Pred'] = prediction_mlp1"
   ]
  },
  {
   "cell_type": "code",
   "execution_count": 282,
   "id": "9cd76809-387f-4131-87c9-30ea45fa4248",
   "metadata": {},
   "outputs": [],
   "source": [
    "pred_df = df_scaled.loc[:,['DAM Price (€/MWh)',\"Dam Pred\"]]"
   ]
  },
  {
   "cell_type": "code",
   "execution_count": 283,
   "id": "a211dbf4-5676-43b9-8e4a-d726c1c85b98",
   "metadata": {},
   "outputs": [
    {
     "data": {
      "text/html": [
       "<div>\n",
       "<style scoped>\n",
       "    .dataframe tbody tr th:only-of-type {\n",
       "        vertical-align: middle;\n",
       "    }\n",
       "\n",
       "    .dataframe tbody tr th {\n",
       "        vertical-align: top;\n",
       "    }\n",
       "\n",
       "    .dataframe thead th {\n",
       "        text-align: right;\n",
       "    }\n",
       "</style>\n",
       "<table border=\"1\" class=\"dataframe\">\n",
       "  <thead>\n",
       "    <tr style=\"text-align: right;\">\n",
       "      <th></th>\n",
       "      <th>DAM Price (€/MWh)</th>\n",
       "      <th>Dam Pred</th>\n",
       "    </tr>\n",
       "    <tr>\n",
       "      <th>Datetime</th>\n",
       "      <th></th>\n",
       "      <th></th>\n",
       "    </tr>\n",
       "  </thead>\n",
       "  <tbody>\n",
       "    <tr>\n",
       "      <th>2018-10-01</th>\n",
       "      <td>1.214334</td>\n",
       "      <td>0.993599</td>\n",
       "    </tr>\n",
       "    <tr>\n",
       "      <th>2018-10-02</th>\n",
       "      <td>0.713466</td>\n",
       "      <td>0.845864</td>\n",
       "    </tr>\n",
       "  </tbody>\n",
       "</table>\n",
       "</div>"
      ],
      "text/plain": [
       "            DAM Price (€/MWh)  Dam Pred\n",
       "Datetime                               \n",
       "2018-10-01           1.214334  0.993599\n",
       "2018-10-02           0.713466  0.845864"
      ]
     },
     "execution_count": 283,
     "metadata": {},
     "output_type": "execute_result"
    }
   ],
   "source": [
    "pred_df.head(2)"
   ]
  },
  {
   "cell_type": "code",
   "execution_count": 284,
   "id": "bbd635cb-8acd-48b0-be1b-094688a33a65",
   "metadata": {},
   "outputs": [],
   "source": [
    "# pred_df.plot(figsize = (7,2.5))"
   ]
  },
  {
   "cell_type": "markdown",
   "id": "f1860d9f-8234-438d-9963-148d1df0fdfa",
   "metadata": {},
   "source": [
    "The strategy is to sell the IDA1 Price and buy back BM Price at index t, if the value of t index satisfy the following rule\n",
    "\n",
    "1. Value of Continuous Wind Forecast more than 700\n",
    "2. Value of Gas price is less than 55\n",
    "3. DAM Price > DAM Pred for that day\n",
    "\n",
    "In the contrary, situation 1,2,3 is reversed then <br>\n",
    "\n",
    "1. Value of Continuous Wind Forecast less than 700\n",
    "2. Value of Gas price is more than 55\n",
    "3. DAM Price < DAM Pred for that day\n",
    "\n",
    "Buy the IDA1 Price and sell back BM Price at index t <br>\n",
    "<br>"
   ]
  },
  {
   "cell_type": "code",
   "execution_count": 285,
   "id": "ff24a7db-6130-4d4f-bfd4-2a60bbe63eeb",
   "metadata": {},
   "outputs": [],
   "source": [
    "def traderule3(datetime, cwf , gasprice, ida1, bmprice, ):\n",
    "    \n",
    "    x = ida1\n",
    "    y = bmprice\n",
    "    z = pred_df.loc[str(datetime).split(' ')[0]]\n",
    "    dam_price = z[0]\n",
    "    dam_pred = z[1]\n",
    "    if (cwf > 700) & (gasprice < 55) & (dam_pred < dam_price) :\n",
    "         return (x - y)\n",
    "    elif (cwf < 700) & (gasprice > 55) & (dam_pred > dam_price) :\n",
    "         return (y - x)\n",
    "    else:\n",
    "        return(np.nan)\n",
    "        "
   ]
  },
  {
   "cell_type": "code",
   "execution_count": 286,
   "id": "5b286dec-2349-4123-b573-f719cd0b0107",
   "metadata": {},
   "outputs": [],
   "source": [
    "profit_rule3 = tradedata.apply(lambda x:traderule3(x.name,x['Cont WF'],x['Gas Price'],x['IDA1 Price (€/MWh)'],x['BM Price (€/MWh)']),axis=1)"
   ]
  },
  {
   "cell_type": "code",
   "execution_count": 287,
   "id": "74b5c5d9-98f6-47a7-874e-13484d8041e0",
   "metadata": {},
   "outputs": [],
   "source": [
    "tradedata['Strat3_profit'] = profit_rule3"
   ]
  },
  {
   "cell_type": "code",
   "execution_count": 288,
   "id": "3196de06-163f-45f5-b4b8-18900ccf7a25",
   "metadata": {},
   "outputs": [
    {
     "data": {
      "text/html": [
       "<div>\n",
       "<style scoped>\n",
       "    .dataframe tbody tr th:only-of-type {\n",
       "        vertical-align: middle;\n",
       "    }\n",
       "\n",
       "    .dataframe tbody tr th {\n",
       "        vertical-align: top;\n",
       "    }\n",
       "\n",
       "    .dataframe thead th {\n",
       "        text-align: right;\n",
       "    }\n",
       "</style>\n",
       "<table border=\"1\" class=\"dataframe\">\n",
       "  <thead>\n",
       "    <tr style=\"text-align: right;\">\n",
       "      <th></th>\n",
       "      <th>DAM Price (€/MWh)</th>\n",
       "      <th>Dam Pred</th>\n",
       "    </tr>\n",
       "    <tr>\n",
       "      <th>Datetime</th>\n",
       "      <th></th>\n",
       "      <th></th>\n",
       "    </tr>\n",
       "  </thead>\n",
       "  <tbody>\n",
       "    <tr>\n",
       "      <th>2019-04-19</th>\n",
       "      <td>-0.048021</td>\n",
       "      <td>-0.203402</td>\n",
       "    </tr>\n",
       "    <tr>\n",
       "      <th>2019-04-20</th>\n",
       "      <td>0.077625</td>\n",
       "      <td>-0.020375</td>\n",
       "    </tr>\n",
       "  </tbody>\n",
       "</table>\n",
       "</div>"
      ],
      "text/plain": [
       "            DAM Price (€/MWh)  Dam Pred\n",
       "Datetime                               \n",
       "2019-04-19          -0.048021 -0.203402\n",
       "2019-04-20           0.077625 -0.020375"
      ]
     },
     "execution_count": 288,
     "metadata": {},
     "output_type": "execute_result"
    }
   ],
   "source": [
    "pred_df.loc['2019-04-19':'2019-04-20']"
   ]
  },
  {
   "cell_type": "markdown",
   "id": "b55ee1f9-5b8f-4cdb-b9a0-d4fe12a6ae9e",
   "metadata": {},
   "source": [
    "To simulate an example lets take value from above table. On 19th April 2019, DAM Price > DAM Pred."
   ]
  },
  {
   "cell_type": "code",
   "execution_count": 289,
   "id": "6db83ee8-9b43-4972-968c-ffca1c4decde",
   "metadata": {},
   "outputs": [
    {
     "data": {
      "text/html": [
       "<div>\n",
       "<style scoped>\n",
       "    .dataframe tbody tr th:only-of-type {\n",
       "        vertical-align: middle;\n",
       "    }\n",
       "\n",
       "    .dataframe tbody tr th {\n",
       "        vertical-align: top;\n",
       "    }\n",
       "\n",
       "    .dataframe thead th {\n",
       "        text-align: right;\n",
       "    }\n",
       "</style>\n",
       "<table border=\"1\" class=\"dataframe\">\n",
       "  <thead>\n",
       "    <tr style=\"text-align: right;\">\n",
       "      <th></th>\n",
       "      <th>DAM Price (€/MWh)</th>\n",
       "      <th>IDA1 Price (€/MWh)</th>\n",
       "      <th>BM Price (€/MWh)</th>\n",
       "      <th>Cont WF</th>\n",
       "      <th>Gas Price</th>\n",
       "      <th>Strat3_profit</th>\n",
       "    </tr>\n",
       "    <tr>\n",
       "      <th>Datetime</th>\n",
       "      <th></th>\n",
       "      <th></th>\n",
       "      <th></th>\n",
       "      <th></th>\n",
       "      <th></th>\n",
       "      <th></th>\n",
       "    </tr>\n",
       "  </thead>\n",
       "  <tbody>\n",
       "    <tr>\n",
       "      <th>2019-04-19 06:30:00</th>\n",
       "      <td>44.770</td>\n",
       "      <td>41.484</td>\n",
       "      <td>34.02</td>\n",
       "      <td>1248.0</td>\n",
       "      <td>33.1</td>\n",
       "      <td>7.464</td>\n",
       "    </tr>\n",
       "    <tr>\n",
       "      <th>2019-04-19 07:00:00</th>\n",
       "      <td>48.505</td>\n",
       "      <td>40.237</td>\n",
       "      <td>35.07</td>\n",
       "      <td>1128.0</td>\n",
       "      <td>33.1</td>\n",
       "      <td>5.167</td>\n",
       "    </tr>\n",
       "    <tr>\n",
       "      <th>2019-04-19 07:30:00</th>\n",
       "      <td>48.505</td>\n",
       "      <td>47.460</td>\n",
       "      <td>34.33</td>\n",
       "      <td>1157.0</td>\n",
       "      <td>33.1</td>\n",
       "      <td>13.130</td>\n",
       "    </tr>\n",
       "  </tbody>\n",
       "</table>\n",
       "</div>"
      ],
      "text/plain": [
       "                     DAM Price (€/MWh)  IDA1 Price (€/MWh)  BM Price (€/MWh)  \\\n",
       "Datetime                                                                       \n",
       "2019-04-19 06:30:00             44.770              41.484             34.02   \n",
       "2019-04-19 07:00:00             48.505              40.237             35.07   \n",
       "2019-04-19 07:30:00             48.505              47.460             34.33   \n",
       "\n",
       "                     Cont WF  Gas Price  Strat3_profit  \n",
       "Datetime                                                \n",
       "2019-04-19 06:30:00   1248.0       33.1          7.464  \n",
       "2019-04-19 07:00:00   1128.0       33.1          5.167  \n",
       "2019-04-19 07:30:00   1157.0       33.1         13.130  "
      ]
     },
     "execution_count": 289,
     "metadata": {},
     "output_type": "execute_result"
    }
   ],
   "source": [
    "tradedata.iloc[5197:5200,[1,2,5,8,16,19]]"
   ]
  },
  {
   "cell_type": "markdown",
   "id": "dfc39eb4-e595-4c0b-b9d9-ece091c1377d",
   "metadata": {},
   "source": [
    "Next, observing values from the above rows: <br>\n",
    "\n",
    "Cont WF > 700 and GAS Price < 55. Thus the decision is to sell IDA1 Price and Buy BM Price.\n",
    "as all these 3 conditions are satisfied for all the 3 rows at hour 6:30, 7:00 and 7:30. the profits recorded are EUR7.464, EUR5.167 and EUR 13.13 respectively. "
   ]
  },
  {
   "cell_type": "code",
   "execution_count": 290,
   "id": "9e10059d-ad5f-49bf-8516-ad024d8c8f97",
   "metadata": {},
   "outputs": [],
   "source": [
    "# profit_rule3.sum()"
   ]
  },
  {
   "cell_type": "code",
   "execution_count": 291,
   "id": "863cfcb8-201b-4b5e-8293-478720d009d2",
   "metadata": {},
   "outputs": [
    {
     "data": {
      "text/plain": [
       "<AxesSubplot:xlabel='Datetime'>"
      ]
     },
     "execution_count": 291,
     "metadata": {},
     "output_type": "execute_result"
    },
    {
     "data": {
      "image/png": "[encoded data removed]",
      "text/plain": [
       "<Figure size 504x216 with 1 Axes>"
      ]
     },
     "metadata": {
      "needs_background": "light"
     },
     "output_type": "display_data"
    }
   ],
   "source": [
    "profit_rule3.cumsum().plot(figsize = (7,3))"
   ]
  },
  {
   "cell_type": "markdown",
   "id": "f4461b4a-4427-4b36-a7be-0111d87c4439",
   "metadata": {},
   "source": [
    "The plot showcased the cumulative profit gained from Trading Strategy 3 which sum up to a total of EUR 67,539 in the span of 3 years. The strategy has a trading period of 30% which has win ratio of above 55%. \n",
    "\n",
    "Thus, based on all the 3 trading strategy, this strategy tend to provide the best result with reliable consistency on the trades. "
   ]
  },
  {
   "cell_type": "code",
   "execution_count": 292,
   "id": "3b5ee10d-c391-45cc-bad3-06d5d471cbee",
   "metadata": {},
   "outputs": [],
   "source": [
    "# This part is to form a table for plots, creating results table and simulating no of trades and win ratio"
   ]
  },
  {
   "cell_type": "code",
   "execution_count": 293,
   "id": "0c281d32-9b36-4004-a80f-4d83515d8b9f",
   "metadata": {},
   "outputs": [],
   "source": [
    "# Result Data = return profit values for all strategies\n",
    "# Trade Data = use for simulating No. of Trades and Win Ratio\n",
    "# Plot Data = use for plotting cumulative profits by trading strategies across the years"
   ]
  },
  {
   "cell_type": "code",
   "execution_count": 294,
   "id": "caac9855-0557-4fdd-8f62-36615083486f",
   "metadata": {},
   "outputs": [],
   "source": [
    "resultdata = tradedata.iloc[: , -3:]"
   ]
  },
  {
   "cell_type": "code",
   "execution_count": 295,
   "id": "6995e505-7d56-41ff-aaa2-d7d6d37420e6",
   "metadata": {},
   "outputs": [],
   "source": [
    "plotdata = tradedata.iloc[: , -3:]\n",
    "plotdata = plotdata.replace(np.nan, 0)"
   ]
  },
  {
   "cell_type": "code",
   "execution_count": 296,
   "id": "b65c85b1-c9b3-4063-a613-667401e1004c",
   "metadata": {},
   "outputs": [],
   "source": [
    "plotdata['Cum Profit Strat1'] = plotdata['Strat1_profit'].cumsum()\n",
    "plotdata['Cum Profit Strat2'] = plotdata['Strat2_profit'].cumsum()\n",
    "plotdata['Cum Profit Strat3'] = plotdata['Strat3_profit'].cumsum()"
   ]
  },
  {
   "cell_type": "code",
   "execution_count": 297,
   "id": "74c20f40-e357-4611-84f3-b3f36d83df5c",
   "metadata": {},
   "outputs": [],
   "source": [
    "resultdata['Cum Profit Srat1'] = resultdata['Strat1_profit'].cumsum()\n",
    "resultdata['Cum Profit Srat2'] = resultdata['Strat2_profit'].cumsum()\n",
    "resultdata['Cum Profit Srat3'] = resultdata['Strat3_profit'].cumsum()"
   ]
  },
  {
   "cell_type": "code",
   "execution_count": 298,
   "id": "ce7e81f5-7156-42a0-88e8-85d73aec60f7",
   "metadata": {},
   "outputs": [],
   "source": [
    "resultdata = resultdata.resample('Y').sum()"
   ]
  },
  {
   "cell_type": "code",
   "execution_count": 299,
   "id": "366266ce-816a-438f-98ef-5cdaa37d7040",
   "metadata": {},
   "outputs": [],
   "source": [
    "resultdata = resultdata.iloc[:,:3]"
   ]
  },
  {
   "cell_type": "code",
   "execution_count": 300,
   "id": "3d705029-8338-4627-94d9-9396608afb4f",
   "metadata": {},
   "outputs": [],
   "source": [
    "tradedata['year'] = tradedata.index.map(lambda x:x.year)"
   ]
  },
  {
   "cell_type": "code",
   "execution_count": 301,
   "id": "7a9876dd-0ca6-406b-b364-28664c54bfdd",
   "metadata": {},
   "outputs": [],
   "source": [
    "trade_ratio_df = pd.DataFrame(index=[2019,2020,2021])\n",
    "\n",
    "for ix in trade_ratio_df.index:\n",
    "    \n",
    "    temp = tradedata.loc[tradedata.year == ix]\n",
    "    trade_ratio_df.loc[ix,'trade_ratio_strat1'] = (len(temp[temp['Strat1_profit'].notnull()])/temp.shape[0])*100\n",
    "    trade_ratio_df.loc[ix,'trade_ratio_strat2'] = (len(temp[temp['Strat2_profit'].notnull()])/temp.shape[0])*100\n",
    "    trade_ratio_df.loc[ix,'trade_ratio_strat3'] = (len(temp[temp['Strat3_profit'].notnull()])/temp.shape[0])*100"
   ]
  },
  {
   "cell_type": "code",
   "execution_count": 302,
   "id": "cb82a844-f512-4b63-9a0e-b825ab027b34",
   "metadata": {},
   "outputs": [],
   "source": [
    "win_ratio_df = pd.DataFrame(index=[2019,2020,2021])\n",
    "\n",
    "for ix in win_ratio_df.index:\n",
    "    \n",
    "    temp = tradedata.loc[tradedata.year == ix]\n",
    "    win_ratio_df.loc[ix,'winratio_strat1'] = (temp.Strat1_profit >= 0).sum()/(len(temp[temp['Strat1_profit'].notnull()]))*100\n",
    "    win_ratio_df.loc[ix,'winratio_strat2'] = (temp.Strat2_profit >= 0).sum()/(len(temp[temp['Strat2_profit'].notnull()]))*100\n",
    "    win_ratio_df.loc[ix,'winratio_strat3'] = (temp.Strat3_profit >= 0).sum()/(len(temp[temp['Strat3_profit'].notnull()]))*100\n",
    "\n"
   ]
  },
  {
   "cell_type": "code",
   "execution_count": 303,
   "id": "b2ff67bb-9916-45b7-b5a4-4cd7733d7c24",
   "metadata": {},
   "outputs": [],
   "source": [
    "# trade_ratio_df"
   ]
  },
  {
   "cell_type": "code",
   "execution_count": 304,
   "id": "1a5ec690-2386-483b-a23b-1c1d96a2236f",
   "metadata": {},
   "outputs": [],
   "source": [
    "# win_ratio_df.replace(np.nan,0)"
   ]
  },
  {
   "cell_type": "markdown",
   "id": "2661914b-cc60-4d43-9b96-7bbfcf4804e3",
   "metadata": {},
   "source": [
    "# Final Result and Evaluation"
   ]
  },
  {
   "cell_type": "code",
   "execution_count": 305,
   "id": "9b9a00d5-9065-4835-92b9-402d8fca3ae6",
   "metadata": {},
   "outputs": [],
   "source": [
    "resultdata['year'] = resultdata.index.map(lambda x:x.year)"
   ]
  },
  {
   "cell_type": "code",
   "execution_count": 306,
   "id": "60ef0961-ff76-4f33-b648-e728f9c60afc",
   "metadata": {},
   "outputs": [],
   "source": [
    "resultdata = resultdata.set_index(\"year\")"
   ]
  },
  {
   "cell_type": "code",
   "execution_count": 307,
   "id": "68584165-7dc8-4eaf-9118-9efaf780af3f",
   "metadata": {},
   "outputs": [],
   "source": [
    "Finalresult1 = trade_ratio_df.join(win_ratio_df).join(resultdata).round(2)"
   ]
  },
  {
   "cell_type": "code",
   "execution_count": 310,
   "id": "76e11a66-995c-404b-81e8-ea70a3fbc4b5",
   "metadata": {},
   "outputs": [],
   "source": [
    "plotdata1 = plotdata.iloc[: , -3:]"
   ]
  },
  {
   "cell_type": "code",
   "execution_count": 320,
   "id": "492a2095-e93f-4f3a-b44f-afbc02fa4204",
   "metadata": {},
   "outputs": [
    {
     "data": {
      "text/plain": [
       "<AxesSubplot:xlabel='Datetime'>"
      ]
     },
     "execution_count": 320,
     "metadata": {},
     "output_type": "execute_result"
    },
    {
     "data": {
      "image/png": "[encoded data removed]",
      "text/plain": [
       "<Figure size 864x360 with 1 Axes>"
      ]
     },
     "metadata": {
      "needs_background": "light"
     },
     "output_type": "display_data"
    }
   ],
   "source": [
    "fig, ax = plt.subplots(figsize = (12,5))\n",
    "sns.lineplot(data=plotdata1)\n"
   ]
  },
  {
   "cell_type": "code",
   "execution_count": 313,
   "id": "fd9f3200-4e9c-4b34-91de-0051a5295d54",
   "metadata": {},
   "outputs": [],
   "source": [
    "# Finalresult1.iloc[: ,[6,0,3,7,1,4,8,2,5]].replace(np.nan , 0)"
   ]
  },
  {
   "cell_type": "code",
   "execution_count": 319,
   "id": "1984ccc3-d9b3-4afc-9c4d-d124935f46c8",
   "metadata": {},
   "outputs": [
    {
     "data": {
      "text/plain": [
       "<matplotlib.image.AxesImage at 0x1f69793c4c0>"
      ]
     },
     "execution_count": 319,
     "metadata": {},
     "output_type": "execute_result"
    },
    {
     "data": {
      "image/png": "[encoded data removed]",
      "text/plain": [
       "<Figure size 1224x504 with 1 Axes>"
      ]
     },
     "metadata": {
      "needs_background": "light"
     },
     "output_type": "display_data"
    }
   ],
   "source": [
    "#Run Above code to see table generated via Python\n",
    "import matplotlib.image as mpimg\n",
    "img = mpimg.imread('TablePNL.png')\n",
    "plt.figure(figsize = (17,7))\n",
    "plt.imshow(img)"
   ]
  },
  {
   "cell_type": "markdown",
   "id": "40be8592-17e9-41c0-8915-0d0aaacaf1cc",
   "metadata": {},
   "source": [
    "Based on the plot, The total profits made from 2019 to 2021 for the 3 strategies are as follows: <br>\n",
    "\n",
    "**Strategy 1** : EUR 34,258 <br>\n",
    "\n",
    "**Strategy 2** : EUR 50,670<br>\n",
    "\n",
    "**Strategy 3** : EUR 67,539<br>\n",
    "\n",
    "There are also other key findings, such as : <br>\n",
    "\n",
    "- For 2019, All the strategy tend to provide good results, However, the market landscape change drastically for 2020 as all strategies recorded lost Year on Year. \n",
    "- Strategy 1 has traded all the period, however, for 2020, the landscape has reversed which caused the 12k loss.\n",
    "- Strategy 2 didn’t execute any trade for 2021, this is due to the value of gas price is above the threshold set in the algorithm.\n",
    "- Strategy 3 only trade on average 30% of total period, however, the win ratio is above 55% which then provide a good consistency for the cumulative profit across 3 years. \n",
    "- Based from the plot, Strategy 3 showcased the best result in term of consistency and profit. \n",
    "- Hence we can conclude that, the fundamental and technical analysis approach for the algorithm suits the market landscape."
   ]
  },
  {
   "cell_type": "markdown",
   "id": "b95568e1-2980-472a-a73b-3f2312ac36da",
   "metadata": {},
   "source": [
    "# Conclusion\n",
    "\n",
    "- In this project, the main focus of the analysis was based on the variable Continuous Wind Forecast and Gas Price\n",
    "- However, there is still other information that is still reliable to be extracted from the data.\n",
    "- For Instance, the Generator Price and Availability were not significant in the regression analysis\n",
    "- On the other hand, if a tree-based decision is to be used, the generator availability index might provide better insights.\n",
    "- Using that information into the trading algorithm can provide better results as the price of Integrated Single Electricity Market (I-SEM) is highly based on the cost of generator in the case where the wind output is low\n",
    "\n",
    "However, proper new features need to be developed before passing the data into the model to use this approach.\n",
    "\n",
    "In terms of the trading algorithm, it is shown that the trading accuracy (win ratio) is improved by increasing the trading rules. In short, these are what are called trading procedures. The increase in the number of the trading rule will reduce the total period traded. But it can improve the win ratio if a proper direction is developed. It is also highly dependance on the fund manager/ Company to decide the trading Risk/Reward ratio in order to determine the best result outcome. \n",
    "\n"
   ]
  }
 ],
 "metadata": {
  "kernelspec": {
   "display_name": "Python 3 (ipykernel)",
   "language": "python",
   "name": "python3"
  },
  "language_info": {
   "codemirror_mode": {
    "name": "ipython",
    "version": 3
   },
   "file_extension": ".py",
   "mimetype": "text/x-python",
   "name": "python",
   "nbconvert_exporter": "python",
   "pygments_lexer": "ipython3",
   "version": "3.9.5"
  }
 },
 "nbformat": 4,
 "nbformat_minor": 5
}
